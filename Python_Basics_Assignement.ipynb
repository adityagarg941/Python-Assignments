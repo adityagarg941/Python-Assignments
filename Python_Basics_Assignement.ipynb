{
  "nbformat": 4,
  "nbformat_minor": 0,
  "metadata": {
    "colab": {
      "provenance": []
    },
    "kernelspec": {
      "name": "python3",
      "display_name": "Python 3"
    },
    "language_info": {
      "name": "python"
    }
  },
  "cells": [
    {
      "cell_type": "markdown",
      "source": [
        "# 1. Explain the key features of Python that make it a popular choice for programming ?\n",
        "\n",
        "Ans.\n",
        "\n",
        "1.   Python is a easy to learn and easy to understand programming language. Python's syntax is clean and easy.\n",
        "\n",
        "2.   Python has an extensive library which provides modules for a wide range of tasks, saving development time.\n",
        "\n",
        "1.   Cross-Platform Compatibility : Python code can run on different operating systems providing a wider and ease of use.\n",
        "\n",
        "2.   Python supports object-oriented programming principles, promoting code reusability and modularity.\n",
        "\n",
        "1.   Dynamic Typing: Python has dynamic typing feature which automatically determines variable datatypes at runtime, which simplfy the code and development.\n",
        "\n",
        "2.   Community and Support: Pyhthon has a large and active community that provides extensive documentation, tutorials, and libraries.\n",
        "\n",
        "\n",
        "7.   Versatility: Pyhton is used for various purposes, including web development, data science, machine learning, and automation.\n",
        "\n",
        "\n",
        "\n",
        "\n",
        "\n",
        "\n",
        "\n",
        "\n"
      ],
      "metadata": {
        "id": "ZHhi4imTcgbL"
      }
    },
    {
      "cell_type": "markdown",
      "source": [
        "#2. Describe the role of predefined keywords in Python and provide examples of how they are used in a program."
      ],
      "metadata": {
        "id": "oLp-3qU7ozRj"
      }
    },
    {
      "cell_type": "markdown",
      "source": [
        "Predefined keywords are reserved words in Python that have specific meanings and functions. They form the backbone of the language, providing the syntax and structure necessary to write and execute code. These keywords cannot be used as variable names or identifiers.\n",
        "\n",
        "**Imp. of Predefined Keywords :-**\n",
        "\n",
        "By mastering the use of predefined keywords, you can effectively control the flow of your Python programs, define functions and classes, manipulate data, and interact with the user. These keywords are the fundamental building blocks that allow you to create complex and powerful applications."
      ],
      "metadata": {
        "id": "sT37BTIzpBJk"
      }
    },
    {
      "cell_type": "code",
      "execution_count": null,
      "metadata": {
        "id": "8eb71fdf-669a-4606-b7f3-c58facffd6a5"
      },
      "outputs": [],
      "source": [
        "#keywords >> are predefined words that hold a special meaning and have specific purpose in python"
      ]
    },
    {
      "cell_type": "code",
      "source": [
        "help('keywords')"
      ],
      "metadata": {
        "colab": {
          "base_uri": "https://localhost:8080/"
        },
        "id": "EKVKWmZ0o6gR",
        "outputId": "a66909f8-9a94-4bca-960a-a60e8cc5e8d3"
      },
      "execution_count": null,
      "outputs": [
        {
          "output_type": "stream",
          "name": "stdout",
          "text": [
            "\n",
            "Here is a list of the Python keywords.  Enter any keyword to get more help.\n",
            "\n",
            "False               class               from                or\n",
            "None                continue            global              pass\n",
            "True                def                 if                  raise\n",
            "and                 del                 import              return\n",
            "as                  elif                in                  try\n",
            "assert              else                is                  while\n",
            "async               except              lambda              with\n",
            "await               finally             nonlocal            yield\n",
            "break               for                 not                 \n",
            "\n"
          ]
        }
      ]
    },
    {
      "cell_type": "code",
      "source": [
        "#Eg of Predefined Keywords:-\n",
        "\n",
        "# Control Flow\n",
        "x = 11\n",
        "if x > 5:\n",
        "    print(\"x is greater than 5\")\n",
        "else:\n",
        "    print(\"x is less than or equal to 5\")\n",
        "\n",
        "# Looping\n",
        "for i in range(5):\n",
        "    print(i)\n",
        "\n",
        "# Input and Output\n",
        "name = input(\"Enter your name: \")\n",
        "print(\"Hello, \" + name + \"!\")"
      ],
      "metadata": {
        "colab": {
          "base_uri": "https://localhost:8080/"
        },
        "id": "-sC-2JFvp2EQ",
        "outputId": "3e1cd58d-1dde-4fec-b794-a76e8b2350dd"
      },
      "execution_count": null,
      "outputs": [
        {
          "output_type": "stream",
          "name": "stdout",
          "text": [
            "x is greater than 5\n",
            "0\n",
            "1\n",
            "2\n",
            "3\n",
            "4\n",
            "Enter your name: Aditya\n",
            "Hello, Aditya!\n"
          ]
        }
      ]
    },
    {
      "cell_type": "markdown",
      "source": [
        "\n",
        "#3. Compare and contrast mutable and immutable objects in Python with examples ?\n",
        "Ans. Mutable objects are those objects whose value/ state can be changed after they are created.\n",
        "\n",
        "For eg:- List are mutable objects.\n"
      ],
      "metadata": {
        "id": "kCAwH-t2FprU"
      }
    },
    {
      "cell_type": "code",
      "execution_count": null,
      "metadata": {
        "colab": {
          "base_uri": "https://localhost:8080/"
        },
        "outputId": "56a7b108-9e19-4394-b6d4-b5e3573e8e5c",
        "id": "GQiHmM-eFqn7"
      },
      "outputs": [
        {
          "output_type": "execute_result",
          "data": {
            "text/plain": [
              "3"
            ]
          },
          "metadata": {},
          "execution_count": 1
        }
      ],
      "source": [
        "a = [1,2,3,4+5j,'Aditya']\n",
        "\n",
        "a[2]\n"
      ]
    },
    {
      "cell_type": "code",
      "source": [
        "# So now a[2] is 3 but if we want to change the value in list we can do that\n",
        "\n",
        "a[2] = 10\n",
        "a[2]"
      ],
      "metadata": {
        "colab": {
          "base_uri": "https://localhost:8080/"
        },
        "id": "kru1Xg2Ze61x",
        "outputId": "23477b98-110d-49f0-d2a0-c980d5c719b1"
      },
      "execution_count": null,
      "outputs": [
        {
          "output_type": "execute_result",
          "data": {
            "text/plain": [
              "10"
            ]
          },
          "metadata": {},
          "execution_count": 2
        }
      ]
    },
    {
      "cell_type": "markdown",
      "source": [
        "2. Similarly immutable objects are those whose value cannot be changed even after they are created.\n",
        "\n",
        "For eg- String is immutable object"
      ],
      "metadata": {
        "id": "q6stTuJ3F-Rh"
      }
    },
    {
      "cell_type": "code",
      "source": [
        "b= 'Aditya'\n",
        "b[2]"
      ],
      "metadata": {
        "colab": {
          "base_uri": "https://localhost:8080/",
          "height": 35
        },
        "id": "XZ1Ix6FvfOE-",
        "outputId": "983406db-2116-45d6-8b39-5f642ff71264"
      },
      "execution_count": null,
      "outputs": [
        {
          "output_type": "execute_result",
          "data": {
            "text/plain": [
              "'i'"
            ],
            "application/vnd.google.colaboratory.intrinsic+json": {
              "type": "string"
            }
          },
          "metadata": {},
          "execution_count": 3
        }
      ]
    },
    {
      "cell_type": "code",
      "source": [
        "# So now b[2] is 'i' but if we want to change i to any other char we cannot\n",
        "\n",
        "b[2]='j'"
      ],
      "metadata": {
        "colab": {
          "base_uri": "https://localhost:8080/",
          "height": 176
        },
        "id": "0xPOiGPNf3JG",
        "outputId": "5fec41bf-670d-460c-b853-7d5694ddfbc9"
      },
      "execution_count": null,
      "outputs": [
        {
          "output_type": "error",
          "ename": "TypeError",
          "evalue": "'str' object does not support item assignment",
          "traceback": [
            "\u001b[0;31m---------------------------------------------------------------------------\u001b[0m",
            "\u001b[0;31mTypeError\u001b[0m                                 Traceback (most recent call last)",
            "\u001b[0;32m<ipython-input-4-ee8003b4eff3>\u001b[0m in \u001b[0;36m<cell line: 3>\u001b[0;34m()\u001b[0m\n\u001b[1;32m      1\u001b[0m \u001b[0;31m# So now b[2] is 'i' but if we want to change i to any other char we cannot\u001b[0m\u001b[0;34m\u001b[0m\u001b[0;34m\u001b[0m\u001b[0m\n\u001b[1;32m      2\u001b[0m \u001b[0;34m\u001b[0m\u001b[0m\n\u001b[0;32m----> 3\u001b[0;31m \u001b[0mb\u001b[0m\u001b[0;34m[\u001b[0m\u001b[0;36m2\u001b[0m\u001b[0;34m]\u001b[0m\u001b[0;34m=\u001b[0m\u001b[0;34m'j'\u001b[0m\u001b[0;34m\u001b[0m\u001b[0;34m\u001b[0m\u001b[0m\n\u001b[0m",
            "\u001b[0;31mTypeError\u001b[0m: 'str' object does not support item assignment"
          ]
        }
      ]
    },
    {
      "cell_type": "markdown",
      "source": [
        "SO error is shown."
      ],
      "metadata": {
        "id": "uLy13jnDGYDg"
      }
    },
    {
      "cell_type": "markdown",
      "source": [
        "# 4. Discuss the different types of operators in Python and provide examples of how they are used ?"
      ],
      "metadata": {
        "id": "KPtbloW5KXrT"
      }
    },
    {
      "cell_type": "markdown",
      "source": [
        "Operators are special symbols that perform specific operations on operands. Python supports a wide range of operators, which can be broadly classified into the following categories."
      ],
      "metadata": {
        "id": "2Qo9GpIurRZu"
      }
    },
    {
      "cell_type": "code",
      "source": [
        "'''These operators are used to perform mathematical operations.\n",
        "\n",
        "1. Arithmetic Operator\n",
        "\n",
        "+\tAddition\tx + y\n",
        "-\tSubtraction\tx - y\n",
        "*\tMultiplication\tx * y\n",
        "/\tDivision\tx / y\n",
        "//\tFloor Division\tx // y (returns the integer quotient)\n",
        "%\tModulus\tx % y (returns the remainder)\n",
        "**\tExponentiation\tx ** y\n",
        "\n",
        "\n",
        "2. Comparison Operators\n",
        "\n",
        "These operators are used to compare values.\n",
        "\n",
        "==\tEqual to\tx == y\n",
        "!=\tNot equal to\tx != y\n",
        ">\tGreater than\tx > y\n",
        "\n",
        "\n",
        "<\tLess than\tx < y\n",
        ">=\tGreater than or equal to\tx >= y\n",
        "<=\tLess than or equal to\tx <= y\n",
        "\n",
        "\n",
        "3. Logical Operators\n",
        "\n",
        "These operators are used to combine conditional statements.\n",
        "\n",
        "Operator\n",
        "\n",
        "and\tLogical AND\tx and y\n",
        "or\tLogical OR\tx or y\n",
        "not\tLogical NOT\tnot x\n",
        "\n",
        "\n",
        "4. Assignment Operators\n",
        "\n",
        "These operators are used to assign values to variables.\n",
        "\n",
        "Operator\n",
        "\n",
        "=\tAssign value\tx = 10\n",
        "+=\tAdd and assign\t         x += 5 (equivalent to x = x + 5)\n",
        "-=\tSubtract and assign\t     x -= 3 (equivalent to x = x - 3)\n",
        "*=\tMultiply and assign\t     x *= 2 (equivalent to x = x * 2)\n",
        "/=\tDivide and assign\t       x /= 2 (equivalent to x = x / 2)\n",
        "//=\tFloor divide and assign\t x //= 2 (equivalent to x = x // 2)\n",
        "%=\tModulus and assign\t     x %= 2 (equivalent to x = x % 2)\n",
        "**=\tExponentiate and assign\t x **= 2 (equivalent to x = x ** 2)\n",
        "\n",
        "Export to Sheets\n",
        "\n",
        "5. Bitwise Operators\n",
        "\n",
        "These operators are used to manipulate bits of a number.\n",
        "\n",
        "Operator\t             Description\tExample\n",
        "&\tBitwise AND\t                x & y\n",
        "Bitwise OR\n",
        "^\tBitwise XOR\t                x ^ y\n",
        "~\tBitwise NOT\t                 ~x\n",
        "<<\tLeft shift\t              x << 2\n",
        ">>\tRight shift\t              x >> 2\n",
        "\n",
        "\n",
        "6. Identity Operators\n",
        "\n",
        "These operators are used to compare the objects, not if they are equal, but if they are actually the same object, with the same memory location.\n",
        "\n",
        "Operator\n",
        "is\t                       x is y\n",
        "is not\t\t                 x is not y\n",
        "\n",
        "\n",
        "\n",
        "7. Membership Operators\n",
        "\n",
        "These operators test whether a value or variable is found in a sequence.\n",
        "\n",
        "Operator\n",
        "in\t\t        x in y\n",
        "not in\t\t    x not in y'''\n",
        "x=1"
      ],
      "metadata": {
        "id": "wCkCNd44ruNg"
      },
      "execution_count": null,
      "outputs": []
    },
    {
      "cell_type": "markdown",
      "source": [],
      "metadata": {
        "id": "b4M3rTfH-M65"
      }
    },
    {
      "cell_type": "markdown",
      "source": [
        "# 5. Explain the concept of type casting in Python with examples ?"
      ],
      "metadata": {
        "id": "KqMZq__gZZG4"
      }
    },
    {
      "cell_type": "markdown",
      "source": [
        "Type casting or Type conversion is the process of converting one data type to another in Python. It is required when you need to perform operations with specific data types or when you want to manipulate data in a particular way.\n",
        "\n",
        "Types:-\n",
        "\n",
        "1. Implicit Converstion:- In implicit type conversion, Python automatically converts one data type to another without external instruction from the programmer.\n",
        "\n",
        "2. Explicit Converstion:- In explicit type conversion, the programmer externally specifies the desired data type using built-in functions like int(), float(), str(), etc."
      ],
      "metadata": {
        "id": "gIAYUDMMZhkE"
      }
    },
    {
      "cell_type": "code",
      "source": [
        "# Example Implicit Converstion\n",
        "\n",
        "x = 12  # Integer\n",
        "y = 3.15  # Float\n",
        "\n",
        "# When we add x and y, Python implicitly converts x to a float\n",
        "result = x + y\n",
        "print(result)"
      ],
      "metadata": {
        "colab": {
          "base_uri": "https://localhost:8080/"
        },
        "id": "biFJQBa9abex",
        "outputId": "39147a1a-2a44-45a5-900f-4c821cbdef83"
      },
      "execution_count": null,
      "outputs": [
        {
          "output_type": "stream",
          "name": "stdout",
          "text": [
            "15.15\n"
          ]
        }
      ]
    },
    {
      "cell_type": "code",
      "source": [
        "# Example Explicit Converstion\n",
        "\n",
        "a = \"2\"\n",
        "print(type(a))\n",
        "print(type(int(a)))   # So in output we can see that we changed the data type of variable a from string to an integer"
      ],
      "metadata": {
        "colab": {
          "base_uri": "https://localhost:8080/"
        },
        "id": "Q0lFqieYbVrW",
        "outputId": "b01e4f3f-c0ca-4be7-eae3-d0241c9221f6"
      },
      "execution_count": null,
      "outputs": [
        {
          "output_type": "stream",
          "name": "stdout",
          "text": [
            "<class 'str'>\n",
            "<class 'int'>\n"
          ]
        }
      ]
    },
    {
      "cell_type": "markdown",
      "source": [
        "# 6. How do conditional statements work in Python? Illustrate with examples ?\n",
        "\n",
        "Ans. Conditional statements allow you to execute different code blocks based on certain conditions.They provide the flexibility to make decisions within your program's flow."
      ],
      "metadata": {
        "id": "sA3UoxPzKy7f"
      }
    },
    {
      "cell_type": "markdown",
      "source": [
        "**Types**:-\n",
        "\n",
        "1. **if condition** :-\n",
        "The most basic conditional statement is the if statement:\n",
        "Syntax:-\n",
        "\n",
        "if condition:\n",
        "   \n",
        "    code to execute if the condition is True"
      ],
      "metadata": {
        "id": "zbxk2Ggsw3NN"
      }
    },
    {
      "cell_type": "code",
      "source": [
        "#Eg:-\n",
        "\n",
        "x = 10\n",
        "\n",
        "if x > 7:\n",
        "    print(\"x is greater than 7\")"
      ],
      "metadata": {
        "colab": {
          "base_uri": "https://localhost:8080/"
        },
        "id": "EaF8OZ0SxQ7L",
        "outputId": "18c9db1a-8542-4021-daec-32eac39b0613"
      },
      "execution_count": null,
      "outputs": [
        {
          "output_type": "stream",
          "name": "stdout",
          "text": [
            "x is greater than 7\n"
          ]
        }
      ]
    },
    {
      "cell_type": "markdown",
      "source": [
        "2. **The if-else condition** :-\n",
        "\n",
        "The if-else statement provides an alternative block of code to be executed if the condition is False:\n",
        "\n",
        "Syntax:-\n",
        "\n",
        "if condition:\n",
        "    # code to execute if the condition is True\n",
        "else:\n",
        "    # code to execute if the condition is False"
      ],
      "metadata": {
        "id": "d7vu0GjTxcGF"
      }
    },
    {
      "cell_type": "code",
      "source": [
        "#Eg:-\n",
        "x = 7\n",
        "\n",
        "if x > 12:\n",
        "    print(\"x is greater than 12\")\n",
        "else:\n",
        "    print(\"x is less than 12\")"
      ],
      "metadata": {
        "colab": {
          "base_uri": "https://localhost:8080/"
        },
        "id": "UY2-BqDKxxPq",
        "outputId": "c1f302ff-eb3e-4fc6-dc90-2202cdc4268d"
      },
      "execution_count": null,
      "outputs": [
        {
          "output_type": "stream",
          "name": "stdout",
          "text": [
            "x is less than 12\n"
          ]
        }
      ]
    },
    {
      "cell_type": "markdown",
      "source": [
        "**3. The if-elif-else Statement** :- The if-elif-else statement allows you to check multiple conditions sequentially\n",
        "\n",
        "Syntax:-\n",
        "\n",
        "if condition 1:\n",
        "    # code to execute if condition1 is True\n",
        "elif condition 2:\n",
        "    # code to execute if condition1 is False and condition2 is True\n",
        "else:\n",
        "    # code to execute if both conditions are False"
      ],
      "metadata": {
        "id": "BtL8UAimx70P"
      }
    },
    {
      "cell_type": "code",
      "source": [
        "#Eg:-\n",
        "\n",
        "x = 8\n",
        "\n",
        "if x > 11:\n",
        "    print(\"x is greater than 11\")\n",
        "elif x > 6:\n",
        "    print(\"x is greater than 6 but less than or equal to 11\")\n",
        "else:\n",
        "    print(\"x is less than or equal to 5\")"
      ],
      "metadata": {
        "colab": {
          "base_uri": "https://localhost:8080/"
        },
        "id": "V7jYGnaUyUtJ",
        "outputId": "e0337d1e-c77d-4311-ea18-80b28f9a5bd6"
      },
      "execution_count": null,
      "outputs": [
        {
          "output_type": "stream",
          "name": "stdout",
          "text": [
            "x is greater than 6 but less than or equal to 11\n"
          ]
        }
      ]
    },
    {
      "cell_type": "markdown",
      "source": [
        "**4. Nested if..else Conditional Statements** :- Nested if..else means an if-else statement inside another if statement. Or in simple words first, there is an outer if statement, and inside it another if – else statement is present and such type of statement is known as nested if statement."
      ],
      "metadata": {
        "id": "2tq2tCquzAvX"
      }
    },
    {
      "cell_type": "code",
      "source": [
        "#Eg:-\n",
        "\n",
        "is_vip = input(\"Are you a VIP Enter yes or no:- \")\n",
        "age = int(input(\"Enter your age:- \"))\n",
        "if is_vip == 'yes':\n",
        "\n",
        "  if age>=18:\n",
        "\n",
        "    if age<60:\n",
        "      print(\"Welcome to the VIP Club\")\n",
        "    else:\n",
        "      print(\"Welcome to VIP Club and you can have senior citizen discount as well\")\n",
        "  else:\n",
        "    print(\"VIP club is only for adults ranging from 18 to 60\")\n",
        "\n",
        "else:\n",
        "  print(\"Since you are not a VIP you will be charged with regular price\")"
      ],
      "metadata": {
        "id": "autEAgmVEjH-",
        "colab": {
          "base_uri": "https://localhost:8080/"
        },
        "outputId": "48283d8a-aca1-4ce4-d003-5265bea509d9"
      },
      "execution_count": null,
      "outputs": [
        {
          "output_type": "stream",
          "name": "stdout",
          "text": [
            "Are you a VIP Enter yes or no:- yes\n",
            "Enter your age:- 23\n",
            "Welcome to the VIP Club\n"
          ]
        }
      ]
    },
    {
      "cell_type": "markdown",
      "source": [
        "#7. Describe the different types of loops in Python and their use cases with examples."
      ],
      "metadata": {
        "id": "ZmmkIklS--NK"
      }
    },
    {
      "cell_type": "markdown",
      "source": [
        "Ans. Loops are essential tools in Python for executing a block of code repeatedly. They allow you to automate task and control the flow of your program.\n",
        "\n",
        "Python primarily offers two types of loops: for loops and while loops."
      ],
      "metadata": {
        "id": "s6HT4_xG_P6O"
      }
    },
    {
      "cell_type": "markdown",
      "source": [
        "**1. While loop**:- While loop repeatedly executes a block of code untill a condition is met."
      ],
      "metadata": {
        "id": "ZBvkggrq_eDT"
      }
    },
    {
      "cell_type": "code",
      "source": [
        "'''syntax\n",
        "while condition:\n",
        "    block of code\n",
        "\n",
        "\n",
        "#>> while is a key word used for a while loop'''\n",
        "\n",
        "#Eg:-\n",
        "n = 8\n",
        "i = 1\n",
        "while i < n:\n",
        "    print(i)\n",
        "    i = i+1"
      ],
      "metadata": {
        "colab": {
          "base_uri": "https://localhost:8080/"
        },
        "id": "QB2BWxPe_9Sg",
        "outputId": "908890b1-f2a9-49ee-efae-b1d7adf5db6d"
      },
      "execution_count": null,
      "outputs": [
        {
          "output_type": "stream",
          "name": "stdout",
          "text": [
            "1\n",
            "2\n",
            "3\n",
            "4\n",
            "5\n",
            "6\n",
            "7\n"
          ]
        }
      ]
    },
    {
      "cell_type": "code",
      "source": [
        "#Use Cases:-\n",
        "\n",
        " # Repeating a task until a certain condition is met:\n",
        "\n",
        "count = 0\n",
        "while count < 5:\n",
        "    print(\"Hello, world!\")\n",
        "    count += 1"
      ],
      "metadata": {
        "colab": {
          "base_uri": "https://localhost:8080/"
        },
        "id": "X1iFGrR2AL_c",
        "outputId": "78d30b4f-57a5-48f6-a3b5-46536d6c3b0b"
      },
      "execution_count": null,
      "outputs": [
        {
          "output_type": "stream",
          "name": "stdout",
          "text": [
            "Hello, world!\n",
            "Hello, world!\n",
            "Hello, world!\n",
            "Hello, world!\n",
            "Hello, world!\n"
          ]
        }
      ]
    },
    {
      "cell_type": "markdown",
      "source": [
        "**2. For loop**:- A for loop is used to iterate over a sequence of elements, such as a list, tuple, string, or range of numbers."
      ],
      "metadata": {
        "id": "myAFY2p_BXcT"
      }
    },
    {
      "cell_type": "code",
      "source": [
        "'''Syntax:-\n",
        "\n",
        "for element in sequence:\n",
        "  code to be executed'''\n",
        "\n",
        "#Eg:-\n",
        "a = \"pwskills\"\n",
        "for i in a:\n",
        "  print(i)"
      ],
      "metadata": {
        "colab": {
          "base_uri": "https://localhost:8080/"
        },
        "id": "CkG_MO5GBgob",
        "outputId": "2ec137ff-ec62-4fcd-faa1-cdae2deeccfa"
      },
      "execution_count": null,
      "outputs": [
        {
          "output_type": "stream",
          "name": "stdout",
          "text": [
            "p\n",
            "w\n",
            "s\n",
            "k\n",
            "i\n",
            "l\n",
            "l\n",
            "s\n"
          ]
        }
      ]
    },
    {
      "cell_type": "code",
      "source": [
        "#Use Cases :-\n",
        "\n",
        "name = \"Python\"\n",
        "for char in name:\n",
        "  print(char)"
      ],
      "metadata": {
        "colab": {
          "base_uri": "https://localhost:8080/"
        },
        "id": "NzF7dHpiB1-D",
        "outputId": "858aa26b-fa5b-4969-89e7-c658ae61107f"
      },
      "execution_count": null,
      "outputs": [
        {
          "output_type": "stream",
          "name": "stdout",
          "text": [
            "P\n",
            "y\n",
            "t\n",
            "h\n",
            "o\n",
            "n\n"
          ]
        }
      ]
    },
    {
      "cell_type": "code",
      "source": [],
      "metadata": {
        "id": "mMP7zXsCCFBz"
      },
      "execution_count": null,
      "outputs": []
    }
  ]
}
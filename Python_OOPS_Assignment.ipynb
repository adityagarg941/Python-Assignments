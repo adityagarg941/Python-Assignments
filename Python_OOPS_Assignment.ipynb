{
  "nbformat": 4,
  "nbformat_minor": 0,
  "metadata": {
    "colab": {
      "provenance": []
    },
    "kernelspec": {
      "name": "python3",
      "display_name": "Python 3"
    },
    "language_info": {
      "name": "python"
    }
  },
  "cells": [
    {
      "cell_type": "markdown",
      "source": [
        "####1. What are the five key concepts of Object-Oriented Programming (OOP)?"
      ],
      "metadata": {
        "id": "pYKgeYsqS4pI"
      }
    },
    {
      "cell_type": "markdown",
      "source": [
        "Key concepts of Object-Oriented Programming (OOP):\n",
        "\n",
        "Encapsulation: Wrapping data and methods into a single unit (class) and restricting direct access.\n",
        "\n",
        "Abstraction: Hiding implementation details and exposing only the essential features.\n",
        "\n",
        "Inheritance: Acquiring properties and methods from a parent class.\n",
        "\n",
        "Polymorphism: Having many forms, e.g., methods with the same name behaving differently in different classes.\n",
        "\n",
        "Modularity: Structuring programs into independent, interchangeable modules.\n",
        "\n"
      ],
      "metadata": {
        "id": "gQCgMJOURlkV"
      }
    },
    {
      "cell_type": "markdown",
      "source": [
        "####2. Write a Python class for a `Car` with attributes for `make`, `model`, and `year`. Include a method to display the car's information."
      ],
      "metadata": {
        "id": "DNeDEEr3S34X"
      }
    },
    {
      "cell_type": "code",
      "source": [
        "class Car:\n",
        "    def __init__(self, make, model, year):\n",
        "        self.make = make\n",
        "        self.model = model\n",
        "        self.year = year\n",
        "\n",
        "    def display_info(self):\n",
        "        print(f\"Car: {self.year} {self.make} {self.model}\")\n",
        "\n",
        "car = Car(\"MG\", \"Hector\", 2020)\n",
        "car.display_info()\n"
      ],
      "metadata": {
        "colab": {
          "base_uri": "https://localhost:8080/"
        },
        "id": "MrYfME2pR4RG",
        "outputId": "af10c739-a0a9-4ef3-ce54-bf99a3d6d3b6"
      },
      "execution_count": null,
      "outputs": [
        {
          "output_type": "stream",
          "name": "stdout",
          "text": [
            "Car: 2020 MG Hector\n"
          ]
        }
      ]
    },
    {
      "cell_type": "markdown",
      "source": [
        "####3. Explain the difference between instance methods and class methods. Provide an example of each."
      ],
      "metadata": {
        "id": "Pr8No2v8S3A_"
      }
    },
    {
      "cell_type": "markdown",
      "source": [
        "Instance methods operate on instance data and require self.\n",
        "\n",
        "Class methods operate on the class itself and use @classmethod with cls."
      ],
      "metadata": {
        "id": "m1RukbY2SElZ"
      }
    },
    {
      "cell_type": "code",
      "source": [
        "#Examples\n",
        "\n",
        "class Example:\n",
        "    def instance_method(self):\n",
        "        print(\"This is an instance method.\")\n",
        "\n",
        "    @classmethod\n",
        "    def class_method(cls):\n",
        "        print(\"This is a class method.\")\n",
        "\n",
        "obj = Example()\n",
        "obj.instance_method()\n",
        "Example.class_method()"
      ],
      "metadata": {
        "colab": {
          "base_uri": "https://localhost:8080/"
        },
        "id": "4aTY5DVQR9Lb",
        "outputId": "509db508-73ac-4128-b371-1038788a94cb"
      },
      "execution_count": null,
      "outputs": [
        {
          "output_type": "stream",
          "name": "stdout",
          "text": [
            "This is an instance method.\n",
            "This is a class method.\n"
          ]
        }
      ]
    },
    {
      "cell_type": "markdown",
      "source": [
        "####4. How does Python implement method overloading? Give an example."
      ],
      "metadata": {
        "id": "IrMe7lILS1oo"
      }
    },
    {
      "cell_type": "markdown",
      "source": [
        "Python method overloading: Python does not support traditional method overloading but achieves it through default arguments or variable arguments (*args/**kwargs)."
      ],
      "metadata": {
        "id": "A5judGVmSS2S"
      }
    },
    {
      "cell_type": "code",
      "source": [
        "class OverloadExample:\n",
        "    def greet(self, name=None):\n",
        "        if name:\n",
        "            print(f\"Hello, {name}!\")\n",
        "        else:\n",
        "            print(\"Hello!\")\n",
        "\n",
        "obj = OverloadExample()\n",
        "obj.greet()\n",
        "obj.greet(\"Aditya\")"
      ],
      "metadata": {
        "colab": {
          "base_uri": "https://localhost:8080/"
        },
        "id": "fkOpvMFHSOyt",
        "outputId": "0b82f2e1-6d92-474a-84ee-2341d1c6062f"
      },
      "execution_count": null,
      "outputs": [
        {
          "output_type": "stream",
          "name": "stdout",
          "text": [
            "Hello!\n",
            "Hello, Aditya!\n"
          ]
        }
      ]
    },
    {
      "cell_type": "markdown",
      "source": [
        "####5. What are the three types of access modifiers in Python? How are they denoted?"
      ],
      "metadata": {
        "id": "0ntUwLR4SzOU"
      }
    },
    {
      "cell_type": "markdown",
      "source": [
        "Access modifiers in Python:\n",
        "\n",
        "1. Public: Accessible everywhere, no prefix (e.g., attribute).\n",
        "\n",
        "2. Protected: Accessible within the class and subclasses, denoted by a single underscore (e.g., _attribute).\n",
        "\n",
        "3. Private: Accessible only within the class, denoted by double underscores (e.g., __attribute)."
      ],
      "metadata": {
        "id": "X9bp8H9-SYzZ"
      }
    },
    {
      "cell_type": "markdown",
      "source": [
        "####6. Describe the five types of inheritance in Python. Provide a simple example of multiple inheritance."
      ],
      "metadata": {
        "id": "gpB7ppPCSwEM"
      }
    },
    {
      "cell_type": "markdown",
      "source": [
        "Types of inheritance in Python:\n",
        "\n",
        "1. Single: One parent, one child class.\n",
        "2. Multiple: One child, multiple parents.\n",
        "3. Multilevel: Chain of inheritance.\n",
        "4. Hierarchical: Multiple children from one parent.\n",
        "5. Hybrid: Combination of above."
      ],
      "metadata": {
        "id": "qIWsOv8oSgCS"
      }
    },
    {
      "cell_type": "code",
      "source": [
        "class Parent1:\n",
        "    def method1(self):\n",
        "        print(\"Parent1 method.\")\n",
        "\n",
        "class Parent2:\n",
        "    def method2(self):\n",
        "        print(\"Parent2 method.\")\n",
        "\n",
        "class Child(Parent1, Parent2):\n",
        "    pass\n",
        "\n",
        "obj = Child()\n",
        "obj.method1()\n",
        "obj.method2()"
      ],
      "metadata": {
        "colab": {
          "base_uri": "https://localhost:8080/"
        },
        "id": "Ntn7qeq2SlbZ",
        "outputId": "f1b62592-cc2e-43f2-fff0-1c4163b25620"
      },
      "execution_count": null,
      "outputs": [
        {
          "output_type": "stream",
          "name": "stdout",
          "text": [
            "Parent1 method.\n",
            "Parent2 method.\n"
          ]
        }
      ]
    },
    {
      "cell_type": "markdown",
      "source": [
        "####7. What is the Method Resolution Order (MRO) in Python? How can you retrieve it programmatically?"
      ],
      "metadata": {
        "id": "8Ykgi6hSSw-y"
      }
    },
    {
      "cell_type": "markdown",
      "source": [
        "Method Resolution Order (MRO):\n",
        "\n",
        "1. Determines the order in which classes are searched for methods.\n",
        "2. Retrieve using ClassName.mro() or ClassName.__mro__."
      ],
      "metadata": {
        "id": "cJNGf3HOSokN"
      }
    },
    {
      "cell_type": "code",
      "source": [
        "class A: pass\n",
        "class B(A): pass\n",
        "print(B.mro())\n"
      ],
      "metadata": {
        "colab": {
          "base_uri": "https://localhost:8080/"
        },
        "id": "g81V1kzDSuIt",
        "outputId": "54dee226-744a-4e71-9934-cbc8a74b5bb2"
      },
      "execution_count": null,
      "outputs": [
        {
          "output_type": "stream",
          "name": "stdout",
          "text": [
            "[<class '__main__.B'>, <class '__main__.A'>, <class 'object'>]\n"
          ]
        }
      ]
    },
    {
      "cell_type": "markdown",
      "source": [
        "####8. Create an abstract base class `Shape` with an abstract method `area()`. Then create two subclasses `Circle` and `Rectangle` that implement the `area()` method."
      ],
      "metadata": {
        "id": "yZlaFqoTTFxY"
      }
    },
    {
      "cell_type": "code",
      "source": [
        "from abc import ABC, abstractmethod\n",
        "\n",
        "# Abstract base class\n",
        "class Shape(ABC):\n",
        "    @abstractmethod\n",
        "    def area(self):\n",
        "        pass\n",
        "\n",
        "# Subclass for Circle\n",
        "class Circle(Shape):\n",
        "    def __init__(self, radius):\n",
        "        self.radius = radius\n",
        "\n",
        "    def area(self):\n",
        "        return 3.14 * self.radius ** 2\n",
        "\n",
        "# Subclass for Rectangle\n",
        "class Rectangle(Shape):\n",
        "    def __init__(self, length, width):\n",
        "        self.length = length\n",
        "        self.width = width\n",
        "\n",
        "    def area(self):\n",
        "        return self.length * self.width\n",
        "\n",
        "# Function to calculate area\n",
        "def calculate_area(shape):\n",
        "    print(f\"The area is: {shape.area()}\")\n",
        "\n",
        "# Create objects\n",
        "circle = Circle(5)\n",
        "rectangle = Rectangle(4, 6)\n",
        "\n",
        "# Call the function\n",
        "calculate_area(circle)\n",
        "calculate_area(rectangle)\n"
      ],
      "metadata": {
        "colab": {
          "base_uri": "https://localhost:8080/"
        },
        "id": "5TGcjDzFS-VK",
        "outputId": "f7c2e9a0-5b3d-4e41-bcf2-ed57e247e390"
      },
      "execution_count": null,
      "outputs": [
        {
          "output_type": "stream",
          "name": "stdout",
          "text": [
            "The area is: 78.5\n",
            "The area is: 24\n"
          ]
        }
      ]
    },
    {
      "cell_type": "markdown",
      "source": [
        "####9. Demonstrate polymorphism by creating a function that can work with different shape objects to calculate and print their areas."
      ],
      "metadata": {
        "id": "IsW84tkmTNoj"
      }
    },
    {
      "cell_type": "code",
      "source": [
        "from abc import ABC, abstractmethod\n",
        "\n",
        "class Shape(ABC):\n",
        "    @abstractmethod\n",
        "    def area(self):\n",
        "        pass\n",
        "\n",
        "class Circle(Shape):\n",
        "    def __init__(self, radius):\n",
        "        self.radius = radius\n",
        "\n",
        "    def area(self):\n",
        "        return 3.14 * self.radius ** 2\n",
        "\n",
        "class Rectangle(Shape):\n",
        "    def __init__(self, length, width):\n",
        "        self.length = length\n",
        "        self.width = width\n",
        "\n",
        "    def area(self):\n",
        "        return self.length * self.width"
      ],
      "metadata": {
        "id": "kDn4FIM7T869"
      },
      "execution_count": null,
      "outputs": []
    },
    {
      "cell_type": "markdown",
      "source": [
        "####10. Implement encapsulation in a `BankAccount` class with private attributes for `balance` and\n",
        "`account_number`. Include methods for deposit, withdrawal, and balance inquiry."
      ],
      "metadata": {
        "id": "S1yeAy6YT-bu"
      }
    },
    {
      "cell_type": "code",
      "source": [
        "class BankAccount:\n",
        "    def __init__(self, account_number, balance=0):\n",
        "        self.__account_number = account_number\n",
        "        self.__balance = balance\n",
        "\n",
        "    def deposit(self, amount):\n",
        "        self.__balance += amount\n",
        "\n",
        "    def withdraw(self, amount):\n",
        "        if amount > self.__balance:\n",
        "            print(\"Insufficient funds.\")\n",
        "        else:\n",
        "            self.__balance -= amount\n",
        "\n",
        "    def get_balance(self):\n",
        "        return self.__balance"
      ],
      "metadata": {
        "id": "mVoQe4kgTORR"
      },
      "execution_count": null,
      "outputs": []
    },
    {
      "cell_type": "markdown",
      "source": [
        "####11. Write a class that overrides the `__str__` and `__add__` magic methods. What will these methods allow\n",
        "you to do?"
      ],
      "metadata": {
        "id": "BUAqGL1dTRAM"
      }
    },
    {
      "cell_type": "code",
      "source": [
        "class Example:\n",
        "    def __init__(self, value):\n",
        "        self.value = value\n",
        "\n",
        "    def __str__(self):\n",
        "        return f\"Value: {self.value}\"\n",
        "\n",
        "    def __add__(self, other):\n",
        "        return Example(self.value + other.value)\n",
        "\n",
        "obj1 = Example(10)\n",
        "obj2 = Example(20)\n",
        "obj3 = obj1 + obj2\n",
        "print(obj3)"
      ],
      "metadata": {
        "colab": {
          "base_uri": "https://localhost:8080/"
        },
        "id": "8pdp4OecTRRH",
        "outputId": "6d2e6b7c-63c8-4918-ba13-7c01ec4edd9f"
      },
      "execution_count": null,
      "outputs": [
        {
          "output_type": "stream",
          "name": "stdout",
          "text": [
            "Value: 30\n"
          ]
        }
      ]
    },
    {
      "cell_type": "markdown",
      "source": [
        "####12. Create a decorator that measures and prints the execution time of a function."
      ],
      "metadata": {
        "id": "eV9va3pQTTaU"
      }
    },
    {
      "cell_type": "code",
      "source": [
        "import time\n",
        "\n",
        "def time_decorator(func):\n",
        "    def wrapper(*args, **kwargs):\n",
        "        start = time.time()\n",
        "        result = func(*args, **kwargs)\n",
        "        end = time.time()\n",
        "        print(f\"Execution time: {end - start} seconds\")\n",
        "        return result\n",
        "    return wrapper\n",
        "\n",
        "@time_decorator\n",
        "def example_function():\n",
        "    time.sleep(2)\n",
        "\n",
        "example_function()"
      ],
      "metadata": {
        "colab": {
          "base_uri": "https://localhost:8080/"
        },
        "id": "94HXIUfxTTry",
        "outputId": "d4802deb-e224-44cf-b3ed-5004c8554d46"
      },
      "execution_count": null,
      "outputs": [
        {
          "output_type": "stream",
          "name": "stdout",
          "text": [
            "Execution time: 2.003042221069336 seconds\n"
          ]
        }
      ]
    },
    {
      "cell_type": "markdown",
      "source": [
        "####13. Explain the concept of the Diamond Problem in multiple inheritance. How does Python resolve it?"
      ],
      "metadata": {
        "id": "aSSJGyyNTW9g"
      }
    },
    {
      "cell_type": "markdown",
      "source": [
        "Diamond problem and Python resolution:\n",
        "\n",
        "Occurs in multiple inheritance when two parents share a common ancestor.\n",
        "Python resolves it using MRO."
      ],
      "metadata": {
        "id": "QbQnxf6fTWR2"
      }
    },
    {
      "cell_type": "code",
      "source": [
        "class A: pass\n",
        "class B(A): pass\n",
        "class C(A): pass\n",
        "class D(B, C): pass\n",
        "print(D.mro())\n"
      ],
      "metadata": {
        "colab": {
          "base_uri": "https://localhost:8080/"
        },
        "id": "pZaYk1EKTYGB",
        "outputId": "2e28a09d-3bda-4f86-ce40-7adf67b9aa0e"
      },
      "execution_count": null,
      "outputs": [
        {
          "output_type": "stream",
          "name": "stdout",
          "text": [
            "[<class '__main__.D'>, <class '__main__.B'>, <class '__main__.C'>, <class '__main__.A'>, <class 'object'>]\n"
          ]
        }
      ]
    },
    {
      "cell_type": "markdown",
      "source": [
        "####14. Write a class method that keeps track of the number of instances created from a class."
      ],
      "metadata": {
        "id": "kw66WWujUTcU"
      }
    },
    {
      "cell_type": "markdown",
      "source": [
        "Class method to track instances:"
      ],
      "metadata": {
        "id": "8SzbsLB3UUkd"
      }
    },
    {
      "cell_type": "code",
      "source": [
        "class Example:\n",
        "    count = 0\n",
        "\n",
        "    def __init__(self):\n",
        "        Example.count += 1\n",
        "\n",
        "    @classmethod\n",
        "    def instance_count(cls):\n",
        "        return cls.count\n"
      ],
      "metadata": {
        "id": "2rh7Ict0UV7E"
      },
      "execution_count": null,
      "outputs": []
    },
    {
      "cell_type": "markdown",
      "source": [
        "####15. Implement a static method in a class that checks if a given year is a leap year."
      ],
      "metadata": {
        "id": "FQKwGnhDUa4B"
      }
    },
    {
      "cell_type": "markdown",
      "source": [
        "Static method for leap year check:-"
      ],
      "metadata": {
        "id": "ojCDcABPUbO6"
      }
    },
    {
      "cell_type": "code",
      "source": [
        "class Year:\n",
        "    @staticmethod\n",
        "    def is_leap_year(year):\n",
        "        return year % 4 == 0 and (year % 100 != 0 or year % 400 == 0)\n",
        "\n",
        "print(Year.is_leap_year(2024))\n"
      ],
      "metadata": {
        "colab": {
          "base_uri": "https://localhost:8080/"
        },
        "id": "VdyM4COoUda9",
        "outputId": "15aa2716-4898-4b58-8d77-606cda5f959d"
      },
      "execution_count": null,
      "outputs": [
        {
          "output_type": "stream",
          "name": "stdout",
          "text": [
            "True\n"
          ]
        }
      ]
    }
  ]
}
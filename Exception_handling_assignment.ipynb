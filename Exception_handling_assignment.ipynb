{
  "nbformat": 4,
  "nbformat_minor": 0,
  "metadata": {
    "colab": {
      "provenance": []
    },
    "kernelspec": {
      "name": "python3",
      "display_name": "Python 3"
    },
    "language_info": {
      "name": "python"
    }
  },
  "cells": [
    {
      "cell_type": "markdown",
      "source": [
        "Theoretical Questions Answers:-\n",
        "1. Difference between interpreted and compiled languages:\n",
        "\n",
        "Interpreted languages execute code line-by-line using an interpreter, making them platform-independent but slower (e.g., Python, JavaScript).\n",
        "Compiled languages are converted into machine code using a compiler before execution, making them faster but platform-dependent (e.g., C, C++).\n",
        "2. Exception handling in Python:\n",
        "\n",
        " Exception handling manages runtime errors using try, except, and optionally finally blocks, ensuring the program continues running without crashing.\n",
        "3. Purpose of the finally block:\n",
        "\n",
        " The finally block ensures code execution regardless of exceptions, often used for cleanup tasks like closing files.\n",
        "4. Logging in Python:\n",
        "\n",
        " Logging records runtime information, warnings, or errors to track the application's flow, aiding debugging and maintenance.\n",
        "5. Significance of __del__ method:\n",
        "\n",
        " __del__ is a destructor method called when an object is deleted or garbage collected, used for cleanup tasks.\n",
        "6. Difference between import and from ... import:\n",
        "\n",
        " import module: Imports the entire module.\n",
        "from module import item: Imports specific items from a module.\n",
        "7. Handling multiple exceptions:\n",
        "\n",
        " Use multiple except blocks for different exception types or a single except with a tuple of exceptions.\n",
        "8. Purpose of the with statement:\n",
        "\n",
        " Simplifies file handling by automatically closing the file after operations, ensuring proper resource management.\n",
        "9. Difference between multithreading and multiprocessing:\n",
        "\n",
        " Multithreading uses multiple threads within the same process, sharing memory.\n",
        " Multiprocessing creates separate processes, with isolated memory, better for CPU-bound tasks.\n",
        "10. Advantages of logging:\n",
        "\n",
        " Tracks program execution, errors, and warnings for debugging, monitoring, and auditing.\n",
        "11. Memory management in Python:\n",
        "\n",
        " Python manages memory using dynamic allocation and garbage collection, optimizing resource use.\n",
        "12. Basic steps in exception handling:\n",
        "\n",
        " 1. Enclose risky code in a try block.\n",
        " 2. Handle exceptions using except.\n",
        " 3. Use finally for cleanup if necessary.\n",
        "13. Importance of memory management:\n",
        "\n",
        " Ensures efficient use of memory, preventing memory leaks and optimizing program performance.\n",
        "14. Role of try and except:\n",
        "\n",
        " try: Encloses code that may raise exceptions.\n",
        " except: Handles raised exceptions gracefully.\n",
        "15. Python's garbage collection:\n",
        "\n",
        " Automatically reclaims unused memory using reference counting and cyclic garbage collection.\n",
        "16. Purpose of the else block:\n",
        "\n",
        " Executes code after the try block if no exceptions occur.\n",
        "17. Common logging levels:\n",
        "\n",
        " DEBUG, INFO, WARNING, ERROR, CRITICAL.\n",
        "18. Difference between os.fork() and multiprocessing:\n",
        "\n",
        " os.fork(): Creates a child process, platform-dependent (mainly Unix).\n",
        " Multiprocessing: Cross-platform library for creating processes.\n",
        "19. Importance of closing files:\n",
        "\n",
        " Prevents memory leaks and file corruption by releasing file resources.\n",
        "20. Difference between file.read() and file.readline():\n",
        "\n",
        " file.read(): Reads the entire file.\n",
        " file.readline(): Reads one line at a time.\n",
        "21. Logging module in Python:\n",
        "\n",
        " Provides tools to log messages at various levels to different outputs (console, files, etc.).\n",
        "22. OS module in Python:\n",
        "\n",
        " Interacts with the operating system, handling file paths, directories, and environment variables.\n",
        "23. Challenges in memory management:\n",
        "\n",
        " Handling circular references and balancing memory use between multiple processes.\n",
        "24. Raising an exception manually:\n",
        "\n",
        " Use the raise statement, e.g., raise ValueError(\"Invalid input\").\n",
        "25. Importance of multithreading:\n",
        "\n",
        " Enhances application responsiveness and performance for I/O-bound tasks."
      ],
      "metadata": {
        "id": "bEYYK6vUV0YI"
      }
    },
    {
      "cell_type": "markdown",
      "source": [
        "##Practical Questions"
      ],
      "metadata": {
        "id": "AB2rIlEuXQQ2"
      }
    },
    {
      "cell_type": "markdown",
      "source": [
        " 1. How can you open a file for writing in Python and write a string to it"
      ],
      "metadata": {
        "id": "SLB00CY_ZQbe"
      }
    },
    {
      "cell_type": "code",
      "execution_count": null,
      "metadata": {
        "id": "AjHGKDTiPZzO"
      },
      "outputs": [],
      "source": [
        "f = open('name.txt','w')\n",
        "f.write(\"Hello my name is Aditya\")\n",
        "f.close()"
      ]
    },
    {
      "cell_type": "markdown",
      "source": [
        "2. Write a Python program to read the contents of a file and print each line."
      ],
      "metadata": {
        "id": "3xUSRTy9ZM_f"
      }
    },
    {
      "cell_type": "code",
      "source": [
        "f = open('name.txt','r')\n",
        "f.readlines()"
      ],
      "metadata": {
        "colab": {
          "base_uri": "https://localhost:8080/"
        },
        "id": "fkFTqQcSPj9Y",
        "outputId": "9b9078e7-cf39-4b47-ae6d-984c98199833"
      },
      "execution_count": null,
      "outputs": [
        {
          "output_type": "execute_result",
          "data": {
            "text/plain": [
              "['Hello my name is Aditya\\n', 'I am 23 years old\\n', 'I am from India']"
            ]
          },
          "metadata": {},
          "execution_count": 30
        }
      ]
    },
    {
      "cell_type": "markdown",
      "source": [
        " 3. How would you handle a case where the file doesn't exist while trying to open it for reading."
      ],
      "metadata": {
        "id": "gVEQv720ZJ84"
      }
    },
    {
      "cell_type": "code",
      "source": [
        "try:\n",
        "    with open('test.txt', 'r') as f:\n",
        "      f.read()\n",
        "except Exception as e:\n",
        "    print(\"File not found.\")\n"
      ],
      "metadata": {
        "colab": {
          "base_uri": "https://localhost:8080/"
        },
        "id": "RgxtjFM3RWWN",
        "outputId": "e3a25c81-e649-4b77-c494-e5b5e295da2b"
      },
      "execution_count": null,
      "outputs": [
        {
          "output_type": "stream",
          "name": "stdout",
          "text": [
            "File not found.\n"
          ]
        }
      ]
    },
    {
      "cell_type": "markdown",
      "source": [
        "4. Write a Python script that reads from one file and writes its content to another file."
      ],
      "metadata": {
        "id": "xsewlpNIZXk0"
      }
    },
    {
      "cell_type": "code",
      "source": [
        "with open('file.txt', 'r') as src, open('destination.txt', 'w') as dest:\n",
        "    dest.write(src.read())"
      ],
      "metadata": {
        "id": "lGPDlUXiZ0B7"
      },
      "execution_count": null,
      "outputs": []
    },
    {
      "cell_type": "markdown",
      "source": [
        "5. How would you catch and handle division by zero error in Python ?"
      ],
      "metadata": {
        "id": "0rBsE8obQlBP"
      }
    },
    {
      "cell_type": "code",
      "source": [
        "try:\n",
        "  print(6/0)\n",
        "\n",
        "except Exception as e:\n",
        "  print(\"Their is an error in the code:-\",e)\n"
      ],
      "metadata": {
        "colab": {
          "base_uri": "https://localhost:8080/"
        },
        "id": "fJ2jYcRlQJMY",
        "outputId": "1bfcbad6-1725-4673-8d6c-9e45d74422d8"
      },
      "execution_count": null,
      "outputs": [
        {
          "output_type": "stream",
          "name": "stdout",
          "text": [
            "Their is an error in the code:- division by zero\n"
          ]
        }
      ]
    },
    {
      "cell_type": "markdown",
      "source": [
        "6. Write a Python program that logs an error message to a log file when a division by zero exception occurs.\n"
      ],
      "metadata": {
        "id": "c2KjvAFK0gRG"
      }
    },
    {
      "cell_type": "code",
      "source": [
        "import logging\n",
        "logging.basicConfig(filename='error.log', level=logging.ERROR)\n",
        "try:\n",
        "    result = 10 / 0\n",
        "except ZeroDivisionError as e:\n",
        "    logging.error(\"Division by zero: %s\", e)\n"
      ],
      "metadata": {
        "colab": {
          "base_uri": "https://localhost:8080/"
        },
        "id": "O20DCWRH2jSs",
        "outputId": "cba5aecc-dbe3-4c99-87d2-a29206cc2e35"
      },
      "execution_count": null,
      "outputs": [
        {
          "output_type": "stream",
          "name": "stderr",
          "text": [
            "ERROR:root:Division by zero: division by zero\n"
          ]
        }
      ]
    },
    {
      "cell_type": "markdown",
      "source": [
        " 7. How do you log information at different levels (INFO, ERROR, WARNING) in Python using the logging module."
      ],
      "metadata": {
        "id": "g38E0HPr4tmi"
      }
    },
    {
      "cell_type": "code",
      "source": [
        "import logging\n",
        "logging.basicConfig(filename = 'test.log', level = logging.INFO)\n",
        "logging.info(\"In this message we are printing that the code is running fine as expected.\")\n",
        "logging.warning(\"Their can be a bug in the code or a potential issue\")\n",
        "logging.error(\"Their is an error in the code\")"
      ],
      "metadata": {
        "colab": {
          "base_uri": "https://localhost:8080/"
        },
        "id": "kGaxOsuS0mTE",
        "outputId": "9931994b-dac5-46b4-f585-c595f8bf3811"
      },
      "execution_count": null,
      "outputs": [
        {
          "output_type": "stream",
          "name": "stderr",
          "text": [
            "WARNING:root:Their can be a bug in the code or a potential issue\n",
            "ERROR:root:Their is an error in the code\n"
          ]
        }
      ]
    },
    {
      "cell_type": "markdown",
      "source": [
        "8. Write a program to handle a file opening error using exception handling."
      ],
      "metadata": {
        "id": "UqiRN_-04tBZ"
      }
    },
    {
      "cell_type": "code",
      "source": [
        "try:\n",
        "  with open(\"test.txt\",'r'):\n",
        "    f.read()\n",
        "except FileNotFoundError as e:\n",
        "  print(\"No file to read:- \",e)"
      ],
      "metadata": {
        "colab": {
          "base_uri": "https://localhost:8080/"
        },
        "id": "pjyxQ3HG4CAJ",
        "outputId": "bf836a05-9fbc-465f-ec86-e0192f59c78a"
      },
      "execution_count": null,
      "outputs": [
        {
          "output_type": "stream",
          "name": "stdout",
          "text": [
            "No file to read:-  [Errno 2] No such file or directory: 'test.txt'\n"
          ]
        }
      ]
    },
    {
      "cell_type": "markdown",
      "source": [],
      "metadata": {
        "id": "ACzySFk3CsqH"
      }
    },
    {
      "cell_type": "code",
      "source": [
        "with open('file.txt','w') as f:\n",
        "  f.write(\"1. Hello my name is Aditya\\n2. I am 23 years old\\n3. I live in India\")"
      ],
      "metadata": {
        "id": "G4r0eXO-4Ig3"
      },
      "execution_count": null,
      "outputs": []
    },
    {
      "cell_type": "markdown",
      "source": [
        "9. How can you read a file line by line and store its content in a list in Python?"
      ],
      "metadata": {
        "id": "VYtJFbimYigL"
      }
    },
    {
      "cell_type": "code",
      "source": [
        "with open('file.txt', 'r') as file:\n",
        "    lines = file.readlines()\n",
        "print(lines)"
      ],
      "metadata": {
        "colab": {
          "base_uri": "https://localhost:8080/"
        },
        "id": "-sFmQ4BEAwXD",
        "outputId": "7d223753-d3d2-4e34-c733-71a2bb40af50"
      },
      "execution_count": null,
      "outputs": [
        {
          "output_type": "stream",
          "name": "stdout",
          "text": [
            "['1. Hello my name is Aditya\\n', '2. I am 23 years old\\n', '3. I live in India']\n"
          ]
        }
      ]
    },
    {
      "cell_type": "markdown",
      "source": [
        "10. How can you append data to an existing file in Python?"
      ],
      "metadata": {
        "id": "KwThTFyFCzlz"
      }
    },
    {
      "cell_type": "code",
      "source": [
        "with open('file.txt', 'a') as file:\n",
        "    file.write('How are you?\\n')\n"
      ],
      "metadata": {
        "id": "dfUu3rCGCiJQ"
      },
      "execution_count": null,
      "outputs": []
    },
    {
      "cell_type": "markdown",
      "source": [
        "11. Write a Python program that uses a try-except block to handle an error when attempting to access a dictionary key that doesn't exist."
      ],
      "metadata": {
        "id": "IufuBjIdDfXy"
      }
    },
    {
      "cell_type": "code",
      "source": [
        "dict = {1:'Aditya', 2:'Rahul', 3:'Raj'}\n",
        "try:\n",
        "  print(dict[4])\n",
        "except KeyError as e:\n",
        "  print(\"This key doesn't exist in dictionary:- \",e)"
      ],
      "metadata": {
        "colab": {
          "base_uri": "https://localhost:8080/"
        },
        "id": "l7WechoECzDG",
        "outputId": "10590802-2e0d-477e-998b-714fc2c1fb59"
      },
      "execution_count": null,
      "outputs": [
        {
          "output_type": "stream",
          "name": "stdout",
          "text": [
            "This key doesn't exist in dictionary:-  4\n"
          ]
        }
      ]
    },
    {
      "cell_type": "markdown",
      "source": [
        "12. Write a program that demonstrates using multiple except blocks to handle different types of exceptions.\n"
      ],
      "metadata": {
        "id": "_SmZIoG0YTRR"
      }
    },
    {
      "cell_type": "code",
      "source": [
        "try:\n",
        "   l={'name':'adi','age':13}\n",
        "   l[3]\n",
        "\n",
        "except KeyError as e:\n",
        "  print(\"This is a Key Error in the code :-\",e)\n",
        "except Exception as e:\n",
        "  print(\"Their is an error in your message:-\",e)"
      ],
      "metadata": {
        "colab": {
          "base_uri": "https://localhost:8080/"
        },
        "id": "OXOarvuIDEZ9",
        "outputId": "7b85ebd7-c2f1-4581-b0ad-025b8b89c5e4"
      },
      "execution_count": null,
      "outputs": [
        {
          "output_type": "stream",
          "name": "stdout",
          "text": [
            "This is a Key Error in the code :- 3\n"
          ]
        }
      ]
    },
    {
      "cell_type": "markdown",
      "source": [
        "13. How would you check if a file exists before attempting to read it in Python.\n"
      ],
      "metadata": {
        "id": "2oYt3Q89l1lV"
      }
    },
    {
      "cell_type": "code",
      "source": [
        "import os\n",
        "if os.path.exists('file.txt'):\n",
        "  print(\"File exist\")\n",
        "else:\n",
        "  print('File does not exist')\n"
      ],
      "metadata": {
        "id": "YIyUP9BnD-zx",
        "colab": {
          "base_uri": "https://localhost:8080/"
        },
        "outputId": "ce422761-58d5-43f9-c8bb-c95f946da235"
      },
      "execution_count": null,
      "outputs": [
        {
          "output_type": "stream",
          "name": "stdout",
          "text": [
            "File does not exist\n"
          ]
        }
      ]
    },
    {
      "cell_type": "markdown",
      "source": [
        "14. Write a program that uses the logging module to log both informational and error messages.\n"
      ],
      "metadata": {
        "id": "UrZuPfpgmap0"
      }
    },
    {
      "cell_type": "code",
      "source": [
        "import logging\n",
        "logging.basicConfig(filename = 'test.log', level= logging.info)\n",
        "try:\n",
        "  a = 10/0\n",
        "except ZeroDivisionError as e:\n",
        "  logging.error(\"Their is an error in the code and something unexpected happend.\")\n",
        "else:\n",
        "  logging.info(\"This code is used in the software.\")\n"
      ],
      "metadata": {
        "colab": {
          "base_uri": "https://localhost:8080/"
        },
        "id": "Yz148tJumMl4",
        "outputId": "3e71f6b2-8dfe-4e12-e743-47b2ff69cb23"
      },
      "execution_count": null,
      "outputs": [
        {
          "output_type": "stream",
          "name": "stderr",
          "text": [
            "ERROR:root:Their is an error in the code and something unexpected happend.\n"
          ]
        }
      ]
    },
    {
      "cell_type": "markdown",
      "source": [
        "15. Write a Python program that prints the content of a file and handles the case when the file is empty?\n"
      ],
      "metadata": {
        "id": "yAyb3Go01dH1"
      }
    },
    {
      "cell_type": "code",
      "source": [
        "logging.basicConfig(filename= 'test.log', level= logging.info)\n",
        "try:\n",
        "  with open('hello.txt','r') as f:\n",
        "    print(f.read())\n",
        "except FileNotFoundError as e:\n",
        "  logging.error(\"File does not exist\")"
      ],
      "metadata": {
        "colab": {
          "base_uri": "https://localhost:8080/"
        },
        "id": "_8o8PBz-nC_A",
        "outputId": "a986c5d1-3081-493d-fd2d-72b263539d9b"
      },
      "execution_count": null,
      "outputs": [
        {
          "output_type": "stream",
          "name": "stderr",
          "text": [
            "ERROR:root:File does not exist\n"
          ]
        }
      ]
    },
    {
      "cell_type": "markdown",
      "source": [
        "16. Demonstrate how to use memory profiling to check the memory usage of a small program?\n"
      ],
      "metadata": {
        "id": "kaS9ZKEa23lz"
      }
    },
    {
      "cell_type": "code",
      "source": [
        "from memory_profiler import profile\n",
        "\n",
        "@profile\n",
        "def create_list():\n",
        "    return [i for i in range(100000)]\n",
        "\n",
        "create_list()"
      ],
      "metadata": {
        "id": "DnZy5hyR2uZT"
      },
      "execution_count": null,
      "outputs": []
    },
    {
      "cell_type": "markdown",
      "source": [
        "17. Write a Python program to create and write a list of numbers to a file, one number per line?\n"
      ],
      "metadata": {
        "id": "g0mYZVmW27Lh"
      }
    },
    {
      "cell_type": "code",
      "source": [
        "numbers = [1, 2, 3, 4, 5]\n",
        "with open('numbers.txt', 'w') as file:\n",
        "    for num in numbers:\n",
        "        file.write(f\"{num}\\n\")"
      ],
      "metadata": {
        "id": "m1KvG4hP3GM0"
      },
      "execution_count": null,
      "outputs": []
    },
    {
      "cell_type": "code",
      "source": [
        "file = open('numbers.txt')"
      ],
      "metadata": {
        "id": "3-Tl6SpJ3Pwa"
      },
      "execution_count": null,
      "outputs": []
    },
    {
      "cell_type": "code",
      "source": [
        "print(file.read())"
      ],
      "metadata": {
        "colab": {
          "base_uri": "https://localhost:8080/"
        },
        "id": "umk-4PAy3lVq",
        "outputId": "6388e254-8c7c-4176-ded8-542a0db74ba9"
      },
      "execution_count": null,
      "outputs": [
        {
          "output_type": "stream",
          "name": "stdout",
          "text": [
            "1\n",
            "2\n",
            "3\n",
            "4\n",
            "5\n",
            "\n"
          ]
        }
      ]
    },
    {
      "cell_type": "markdown",
      "source": [
        "18. How would you implement a basic logging setup that logs to a file with rotation after 1MB?\n"
      ],
      "metadata": {
        "id": "iJOhzyRX33iZ"
      }
    },
    {
      "cell_type": "code",
      "source": [
        "from logging.handlers import RotatingFileHandler\n",
        "import logging\n",
        "\n",
        "handler = RotatingFileHandler('app.log', maxBytes=1_048_576, backupCount=3)  # 1 MB\n",
        "logging.basicConfig(handlers=[handler], level=logging.INFO)\n",
        "logging.info(\"This is a log message.\")"
      ],
      "metadata": {
        "id": "hh7OrqnX3oBo"
      },
      "execution_count": null,
      "outputs": []
    },
    {
      "cell_type": "markdown",
      "source": [
        "19. Write a program that handles both IndexError and KeyError using a try-except block?"
      ],
      "metadata": {
        "id": "ublVbMND4v5_"
      }
    },
    {
      "cell_type": "code",
      "source": [
        "dict = {1:'Ajay',2:'Adi',3:'Rahul'}\n",
        "try:\n",
        "  dict[4]\n",
        "except (IndexError, KeyError) as e:\n"
      ],
      "metadata": {
        "id": "Tu1LaqvK32oR"
      },
      "execution_count": null,
      "outputs": []
    },
    {
      "cell_type": "markdown",
      "source": [
        "20. How would you open a file and read its contents using a context manager in Python?\n"
      ],
      "metadata": {
        "id": "nMPIiTNz8ZzK"
      }
    },
    {
      "cell_type": "code",
      "source": [
        "with open('file.txt', 'r') as file:\n",
        "    content = file.read()\n",
        "    print(content)"
      ],
      "metadata": {
        "id": "PS-4M5n1ZwQ_"
      },
      "execution_count": null,
      "outputs": []
    },
    {
      "cell_type": "markdown",
      "source": [
        "22. How can you check if a file is empty before attempting to read its contents?"
      ],
      "metadata": {
        "id": "c4FPDguU852H"
      }
    },
    {
      "cell_type": "code",
      "source": [
        "import os\n",
        "\n",
        "if os.path.getsize('file.txt')==0:\n",
        "  print(\"File is emmpty\")\n",
        "else:\n",
        "  print(\"File is not empty\")"
      ],
      "metadata": {
        "colab": {
          "base_uri": "https://localhost:8080/"
        },
        "id": "08Kupo5a8WX-",
        "outputId": "bd7a26fc-9393-4859-87d9-bdd3d83ee084"
      },
      "execution_count": null,
      "outputs": [
        {
          "output_type": "stream",
          "name": "stdout",
          "text": [
            "File is not empty\n"
          ]
        }
      ]
    },
    {
      "cell_type": "markdown",
      "source": [
        "23. Write a Python program that writes to a log file when an error occurs during file handling."
      ],
      "metadata": {
        "id": "Vtd7tf4Z9IR8"
      }
    },
    {
      "cell_type": "code",
      "source": [
        "import logging\n",
        "logging.basicConfig(filename='test.log', level=logging.error)\n",
        "\n",
        "try:\n",
        "    with open('hello.txt', 'r') as file:\n",
        "      file.read()\n",
        "except FileNotFoundError as e:\n",
        "    logging.error(\"The file that you want to read in not found\",e)\n"
      ],
      "metadata": {
        "colab": {
          "base_uri": "https://localhost:8080/"
        },
        "id": "kFNvjXrJ9LHO",
        "outputId": "3eddadfa-dc97-4baa-eb3d-750ea077e1cd"
      },
      "execution_count": null,
      "outputs": [
        {
          "output_type": "stream",
          "name": "stderr",
          "text": [
            "--- Logging error ---\n",
            "Traceback (most recent call last):\n",
            "  File \"<ipython-input-51-04e02644125a>\", line 5, in <cell line: 4>\n",
            "    with open('hello.txt', 'r') as file:\n",
            "FileNotFoundError: [Errno 2] No such file or directory: 'hello.txt'\n",
            "\n",
            "During handling of the above exception, another exception occurred:\n",
            "\n",
            "Traceback (most recent call last):\n",
            "  File \"/usr/lib/python3.10/logging/__init__.py\", line 1100, in emit\n",
            "    msg = self.format(record)\n",
            "  File \"/usr/lib/python3.10/logging/__init__.py\", line 943, in format\n",
            "    return fmt.format(record)\n",
            "  File \"/usr/lib/python3.10/logging/__init__.py\", line 678, in format\n",
            "    record.message = record.getMessage()\n",
            "  File \"/usr/lib/python3.10/logging/__init__.py\", line 368, in getMessage\n",
            "    msg = msg % self.args\n",
            "TypeError: not all arguments converted during string formatting\n",
            "Call stack:\n",
            "  File \"/usr/lib/python3.10/runpy.py\", line 196, in _run_module_as_main\n",
            "    return _run_code(code, main_globals, None,\n",
            "  File \"/usr/lib/python3.10/runpy.py\", line 86, in _run_code\n",
            "    exec(code, run_globals)\n",
            "  File \"/usr/local/lib/python3.10/dist-packages/colab_kernel_launcher.py\", line 37, in <module>\n",
            "    ColabKernelApp.launch_instance()\n",
            "  File \"/usr/local/lib/python3.10/dist-packages/traitlets/config/application.py\", line 992, in launch_instance\n",
            "    app.start()\n",
            "  File \"/usr/local/lib/python3.10/dist-packages/ipykernel/kernelapp.py\", line 619, in start\n",
            "    self.io_loop.start()\n",
            "  File \"/usr/local/lib/python3.10/dist-packages/tornado/platform/asyncio.py\", line 195, in start\n",
            "    self.asyncio_loop.run_forever()\n",
            "  File \"/usr/lib/python3.10/asyncio/base_events.py\", line 603, in run_forever\n",
            "    self._run_once()\n",
            "  File \"/usr/lib/python3.10/asyncio/base_events.py\", line 1909, in _run_once\n",
            "    handle._run()\n",
            "  File \"/usr/lib/python3.10/asyncio/events.py\", line 80, in _run\n",
            "    self._context.run(self._callback, *self._args)\n",
            "  File \"/usr/local/lib/python3.10/dist-packages/tornado/ioloop.py\", line 685, in <lambda>\n",
            "    lambda f: self._run_callback(functools.partial(callback, future))\n",
            "  File \"/usr/local/lib/python3.10/dist-packages/tornado/ioloop.py\", line 738, in _run_callback\n",
            "    ret = callback()\n",
            "  File \"/usr/local/lib/python3.10/dist-packages/tornado/gen.py\", line 825, in inner\n",
            "    self.ctx_run(self.run)\n",
            "  File \"/usr/local/lib/python3.10/dist-packages/tornado/gen.py\", line 786, in run\n",
            "    yielded = self.gen.send(value)\n",
            "  File \"/usr/local/lib/python3.10/dist-packages/ipykernel/kernelbase.py\", line 361, in process_one\n",
            "    yield gen.maybe_future(dispatch(*args))\n",
            "  File \"/usr/local/lib/python3.10/dist-packages/tornado/gen.py\", line 234, in wrapper\n",
            "    yielded = ctx_run(next, result)\n",
            "  File \"/usr/local/lib/python3.10/dist-packages/ipykernel/kernelbase.py\", line 261, in dispatch_shell\n",
            "    yield gen.maybe_future(handler(stream, idents, msg))\n",
            "  File \"/usr/local/lib/python3.10/dist-packages/tornado/gen.py\", line 234, in wrapper\n",
            "    yielded = ctx_run(next, result)\n",
            "  File \"/usr/local/lib/python3.10/dist-packages/ipykernel/kernelbase.py\", line 539, in execute_request\n",
            "    self.do_execute(\n",
            "  File \"/usr/local/lib/python3.10/dist-packages/tornado/gen.py\", line 234, in wrapper\n",
            "    yielded = ctx_run(next, result)\n",
            "  File \"/usr/local/lib/python3.10/dist-packages/ipykernel/ipkernel.py\", line 302, in do_execute\n",
            "    res = shell.run_cell(code, store_history=store_history, silent=silent)\n",
            "  File \"/usr/local/lib/python3.10/dist-packages/ipykernel/zmqshell.py\", line 539, in run_cell\n",
            "    return super(ZMQInteractiveShell, self).run_cell(*args, **kwargs)\n",
            "  File \"/usr/local/lib/python3.10/dist-packages/IPython/core/interactiveshell.py\", line 2975, in run_cell\n",
            "    result = self._run_cell(\n",
            "  File \"/usr/local/lib/python3.10/dist-packages/IPython/core/interactiveshell.py\", line 3030, in _run_cell\n",
            "    return runner(coro)\n",
            "  File \"/usr/local/lib/python3.10/dist-packages/IPython/core/async_helpers.py\", line 78, in _pseudo_sync_runner\n",
            "    coro.send(None)\n",
            "  File \"/usr/local/lib/python3.10/dist-packages/IPython/core/interactiveshell.py\", line 3257, in run_cell_async\n",
            "    has_raised = await self.run_ast_nodes(code_ast.body, cell_name,\n",
            "  File \"/usr/local/lib/python3.10/dist-packages/IPython/core/interactiveshell.py\", line 3473, in run_ast_nodes\n",
            "    if (await self.run_code(code, result,  async_=asy)):\n",
            "  File \"/usr/local/lib/python3.10/dist-packages/IPython/core/interactiveshell.py\", line 3553, in run_code\n",
            "    exec(code_obj, self.user_global_ns, self.user_ns)\n",
            "  File \"<ipython-input-51-04e02644125a>\", line 8, in <cell line: 4>\n",
            "    logging.error(\"The file that you want to read in not found\",e)\n",
            "Message: 'The file that you want to read in not found'\n",
            "Arguments: (FileNotFoundError(2, 'No such file or directory'),)\n"
          ]
        }
      ]
    },
    {
      "cell_type": "code",
      "source": [],
      "metadata": {
        "id": "aQUhQpHx9eH5"
      },
      "execution_count": null,
      "outputs": []
    }
  ]
}
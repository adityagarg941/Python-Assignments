{
  "nbformat": 4,
  "nbformat_minor": 0,
  "metadata": {
    "colab": {
      "provenance": []
    },
    "kernelspec": {
      "name": "python3",
      "display_name": "Python 3"
    },
    "language_info": {
      "name": "python"
    }
  },
  "cells": [
    {
      "cell_type": "markdown",
      "source": [
        "#1. Discuss string slicing and provide examples ?\n",
        "\n"
      ],
      "metadata": {
        "id": "YSlh2gbF9hx1"
      }
    },
    {
      "cell_type": "markdown",
      "source": [
        "String slicing is a way to access a subset of characters in a string by specifying a range of indices. In Python, you can slice strings using the syntax:\n",
        "\n",
        "string[start:end:step]\n",
        "\n",
        "*   start:  The starting index of the slice (inclusive). If omitted, it defaults to 0.\n",
        "\n",
        "*   end:  The ending index of the slice (exclusive). If omitted, it defaults to the length of the string.\n",
        "\n",
        "*   step: The interval between characters in the slice. If omitted, it defaults to 1.\n",
        "\n",
        "\n"
      ],
      "metadata": {
        "id": "CpYLYbRT9tMO"
      }
    },
    {
      "cell_type": "code",
      "source": [
        "#Examples\n",
        "\n",
        "s = \"Hello, world!\"\n",
        "\n",
        "# Get the first 5 characters\n",
        "print(s[0:5])  # Output: Hello"
      ],
      "metadata": {
        "colab": {
          "base_uri": "https://localhost:8080/"
        },
        "id": "gOSgDt3h8tdd",
        "outputId": "3f5d4b86-bf0b-442e-dffd-763ac46dedd9"
      },
      "execution_count": null,
      "outputs": [
        {
          "output_type": "stream",
          "name": "stdout",
          "text": [
            "Hello\n"
          ]
        }
      ]
    },
    {
      "cell_type": "code",
      "source": [
        "# Reverse the string\n",
        "print(s[::-1])  # Output: !dlrow ,olleH"
      ],
      "metadata": {
        "colab": {
          "base_uri": "https://localhost:8080/"
        },
        "id": "zN6x3KBO-aQZ",
        "outputId": "4a85c1a3-3fc8-4b15-fd10-2d49da34ab91"
      },
      "execution_count": null,
      "outputs": [
        {
          "output_type": "stream",
          "name": "stdout",
          "text": [
            "!dlrow ,olleH\n"
          ]
        }
      ]
    },
    {
      "cell_type": "code",
      "source": [
        "print(s[0:5:2])"
      ],
      "metadata": {
        "colab": {
          "base_uri": "https://localhost:8080/"
        },
        "id": "yNmEUT7h-cww",
        "outputId": "14d96bee-b05c-4faf-b540-6bb95b827fc1"
      },
      "execution_count": null,
      "outputs": [
        {
          "output_type": "stream",
          "name": "stdout",
          "text": [
            "Hlo\n"
          ]
        }
      ]
    },
    {
      "cell_type": "code",
      "source": [
        "# Print every 2nd char of stirng\n",
        "print(s[::2])"
      ],
      "metadata": {
        "colab": {
          "base_uri": "https://localhost:8080/"
        },
        "id": "w4izYRME-ry8",
        "outputId": "09bae85a-e1ae-4f7d-d330-5cc3b08a9eee"
      },
      "execution_count": null,
      "outputs": [
        {
          "output_type": "stream",
          "name": "stdout",
          "text": [
            "Hlo ol!\n"
          ]
        }
      ]
    },
    {
      "cell_type": "markdown",
      "source": [
        "#2. Explain the key features of lists in Python?\n",
        "\n",
        "Ans.\n",
        "\n",
        "\n",
        "1.   List are mutable in nature i.e we ca change and modify the element stored in the list.\n",
        "\n",
        "2.   We can store heterogenous data in the list. i.e we can store any dtype in the string. For eg:- int, float, string, bool etc.\n",
        "\n",
        "3. List are represented by a square bracket.\n",
        "\n",
        "\n"
      ],
      "metadata": {
        "id": "gEG-cjj5_Ogn"
      }
    },
    {
      "cell_type": "code",
      "source": [
        "# Eg:-\n",
        "list =[1, 2, 3, 'Hello', True, 7.5]\n",
        "print(list)"
      ],
      "metadata": {
        "colab": {
          "base_uri": "https://localhost:8080/"
        },
        "id": "pTvKtY9TAZZP",
        "outputId": "1d7fcbe4-2f0d-4a4d-8804-b05509e1960f"
      },
      "execution_count": null,
      "outputs": [
        {
          "output_type": "stream",
          "name": "stdout",
          "text": [
            "[1, 2, 3, 'Hello', True, 7.5]\n"
          ]
        }
      ]
    },
    {
      "cell_type": "markdown",
      "source": [
        "4. Python lists are dynamic, meaning they can grow or shrink in size. You can add, remove, or modify elements without needing to specify the list size initially.\n",
        "\n",
        "5. Lists support indexing and slicing, allowing you to access elements or a subset of elements easily. Negative indexing is also supported, where -1 refers to the last element, -2 to the second last, and so on."
      ],
      "metadata": {
        "id": "94As7-0eSpKn"
      }
    },
    {
      "cell_type": "markdown",
      "source": [
        "#3. Describe how to access, modify, and delete elements in a list with examples."
      ],
      "metadata": {
        "id": "ip-48QE-abnG"
      }
    },
    {
      "cell_type": "code",
      "source": [
        "''' Ans. Here are the examples of how to access, modify and delete elements in a list:'''\n",
        "\n",
        "# 1. Accessing the elements:-\n",
        "\n",
        "list = [1, 2, 3, 4, 5]\n",
        "print(list[0])\n",
        "print(list[2])"
      ],
      "metadata": {
        "colab": {
          "base_uri": "https://localhost:8080/"
        },
        "id": "ZdJc3sGzcKGN",
        "outputId": "35548574-8bd5-487e-a046-219e3fcbb13d"
      },
      "execution_count": null,
      "outputs": [
        {
          "output_type": "stream",
          "name": "stdout",
          "text": [
            "1\n",
            "3\n"
          ]
        }
      ]
    },
    {
      "cell_type": "code",
      "source": [
        "# 2. Modify the elements:-\n",
        "\n",
        "list = [1, 2, 3, 4, 5]\n",
        "list[2] = 10\n",
        "print(list)"
      ],
      "metadata": {
        "colab": {
          "base_uri": "https://localhost:8080/"
        },
        "id": "vidAUcWscbiV",
        "outputId": "84f2b98f-98bb-42a3-d5cc-286e85d1861c"
      },
      "execution_count": null,
      "outputs": [
        {
          "output_type": "stream",
          "name": "stdout",
          "text": [
            "[1, 2, 10, 4, 5]\n"
          ]
        }
      ]
    },
    {
      "cell_type": "code",
      "source": [
        "# 3. Delete the elements:-\n",
        "\n",
        "list1 = [1, 2, 3, 4, 5]\n",
        "list2 = [1, 2, 3, 4, 5]\n",
        "list1.pop(2)\n",
        "list2.remove(2)\n",
        "print(list1)\n",
        "print(list2)"
      ],
      "metadata": {
        "colab": {
          "base_uri": "https://localhost:8080/"
        },
        "id": "igwyS_ywcl0m",
        "outputId": "2718e8f1-0e67-4f7b-df97-e0781be4d430"
      },
      "execution_count": null,
      "outputs": [
        {
          "output_type": "stream",
          "name": "stdout",
          "text": [
            "[1, 2, 4, 5]\n",
            "[1, 3, 4, 5]\n"
          ]
        }
      ]
    },
    {
      "cell_type": "code",
      "source": [
        "# 4. Adding or Updating elements in list:-\n",
        "\n",
        "list1 = [1, 2, 3, 4, 5]\n",
        "list2 = [1, 2, 3, 4, 5]\n",
        "list1.append(7)\n",
        "list2.insert(1,7)\n",
        "print(list1)\n",
        "print(list2)"
      ],
      "metadata": {
        "colab": {
          "base_uri": "https://localhost:8080/"
        },
        "id": "k4d66Byoes2i",
        "outputId": "86bf08fd-d1ee-4a4f-e0d8-ff8b7c5029ce"
      },
      "execution_count": null,
      "outputs": [
        {
          "output_type": "stream",
          "name": "stdout",
          "text": [
            "[1, 2, 3, 4, 5, 7]\n",
            "[1, 7, 2, 3, 4, 5]\n"
          ]
        }
      ]
    },
    {
      "cell_type": "markdown",
      "source": [
        "#4. Compare and contrast tuples and lists with examples."
      ],
      "metadata": {
        "id": "hRpg23WFftl-"
      }
    },
    {
      "cell_type": "markdown",
      "source": [
        "1. Tuples are immutable, meaning once created, their values cannot be changed.\n",
        "Lists are mutable, allowing modification after creation (like adding, removing, or changing elements).\n",
        "\n"
      ],
      "metadata": {
        "id": "v0X2ZR_MidYi"
      }
    },
    {
      "cell_type": "code",
      "source": [
        "# Eg:-\n",
        "# Tuple\n",
        "tuple_data = (1, 2, 3)\n",
        "tuple_data[0] = 10"
      ],
      "metadata": {
        "colab": {
          "base_uri": "https://localhost:8080/",
          "height": 176
        },
        "id": "9-XHPFNt9vXI",
        "outputId": "435718a4-403e-41fc-a64e-58f845d0c004"
      },
      "execution_count": null,
      "outputs": [
        {
          "output_type": "error",
          "ename": "TypeError",
          "evalue": "'tuple' object does not support item assignment",
          "traceback": [
            "\u001b[0;31m---------------------------------------------------------------------------\u001b[0m",
            "\u001b[0;31mTypeError\u001b[0m                                 Traceback (most recent call last)",
            "\u001b[0;32m<ipython-input-2-503e53a8e116>\u001b[0m in \u001b[0;36m<cell line: 3>\u001b[0;34m()\u001b[0m\n\u001b[1;32m      1\u001b[0m \u001b[0;31m# Tuple\u001b[0m\u001b[0;34m\u001b[0m\u001b[0;34m\u001b[0m\u001b[0m\n\u001b[1;32m      2\u001b[0m \u001b[0mtuple_data\u001b[0m \u001b[0;34m=\u001b[0m \u001b[0;34m(\u001b[0m\u001b[0;36m1\u001b[0m\u001b[0;34m,\u001b[0m \u001b[0;36m2\u001b[0m\u001b[0;34m,\u001b[0m \u001b[0;36m3\u001b[0m\u001b[0;34m)\u001b[0m\u001b[0;34m\u001b[0m\u001b[0;34m\u001b[0m\u001b[0m\n\u001b[0;32m----> 3\u001b[0;31m \u001b[0mtuple_data\u001b[0m\u001b[0;34m[\u001b[0m\u001b[0;36m0\u001b[0m\u001b[0;34m]\u001b[0m \u001b[0;34m=\u001b[0m \u001b[0;36m10\u001b[0m\u001b[0;34m\u001b[0m\u001b[0;34m\u001b[0m\u001b[0m\n\u001b[0m",
            "\u001b[0;31mTypeError\u001b[0m: 'tuple' object does not support item assignment"
          ]
        }
      ]
    },
    {
      "cell_type": "code",
      "source": [
        "# List\n",
        "list_data = [1, 2, 3]\n",
        "list_data[0] = 10\n",
        "print(list_data)"
      ],
      "metadata": {
        "colab": {
          "base_uri": "https://localhost:8080/"
        },
        "id": "cwFCh8n791Jr",
        "outputId": "1934ef78-3a66-4a30-c1a0-fe1d32a2c475"
      },
      "execution_count": null,
      "outputs": [
        {
          "output_type": "stream",
          "name": "stdout",
          "text": [
            "[10, 2, 3]\n"
          ]
        }
      ]
    },
    {
      "cell_type": "markdown",
      "source": [
        "2. Tuples are defined using parentheses () or simply by separating values with commas (e.g., 1, 2, 3).\n",
        "Lists are defined using square brackets [ ]."
      ],
      "metadata": {
        "id": "LxhVY9Yp-NOZ"
      }
    },
    {
      "cell_type": "code",
      "source": [
        "tuple_data = (1, 2, 3)\n",
        "list_data = [1, 2, 3]"
      ],
      "metadata": {
        "id": "wHzAQRHZ-DJI"
      },
      "execution_count": null,
      "outputs": []
    },
    {
      "cell_type": "markdown",
      "source": [
        "3. Tuples are generally faster than lists, which makes them preferable for fixed collections of items.\n",
        "Lists are slower due to the overhead of mutability, but they are more versatile for tasks that require modification.\n",
        "\n",
        "4. Tuples have fewer methods because of their immutability, with basic methods like .count() and .index().\n",
        "Lists have more methods, like .append(), .remove(), .sort(), .pop(), and more for modifying contents."
      ],
      "metadata": {
        "id": "8rOEra0z-Vso"
      }
    },
    {
      "cell_type": "code",
      "source": [
        "# Tuple methods\n",
        "tuple_data = (1, 2, 3, 2)\n",
        "print(tuple_data.index(3))\n"
      ],
      "metadata": {
        "colab": {
          "base_uri": "https://localhost:8080/"
        },
        "id": "2vcLoWLx-huy",
        "outputId": "6cee0e1f-d3a8-4ed2-ec18-843acb001634"
      },
      "execution_count": null,
      "outputs": [
        {
          "output_type": "stream",
          "name": "stdout",
          "text": [
            "2\n"
          ]
        }
      ]
    },
    {
      "cell_type": "code",
      "source": [
        "# List methods\n",
        "list_data = [1, 2, 3]\n",
        "list_data.append(4)\n",
        "list_data.remove(2)\n",
        "print(list_data)"
      ],
      "metadata": {
        "colab": {
          "base_uri": "https://localhost:8080/"
        },
        "id": "X7uJkDmO-nrm",
        "outputId": "7669c6ac-48e2-417b-a281-ba4c88536fb0"
      },
      "execution_count": null,
      "outputs": [
        {
          "output_type": "stream",
          "name": "stdout",
          "text": [
            "[1, 3, 4]\n"
          ]
        }
      ]
    },
    {
      "cell_type": "markdown",
      "source": [
        "#5. Describe the key features of sets and provide examples of their use.\n",
        "\n",
        "Ans.\n",
        "\n",
        "1. Set is a collection of unordered unique elements. Duplicate values are not allowed in set.\n",
        "\n",
        "2. Elements of a set must be immutable (e.g., numbers, strings, tuples). Mutable elements like lists are not allowed.\n",
        "\n",
        "3. A set cannot contain duplicate elements. Adding a duplicate will not change the set. For example, {1, 1, 2} simplifies to {1, 2}.\n",
        "\n",
        "4. Sets support mathematical set operations, including:\n",
        "\n",
        "\n",
        "*   Union: Combines all elements from two sets.\n",
        "*   Intersection: Finds common elements between two sets.\n",
        "\n",
        "*   Difference: Finds elements in one set but not the other.\n",
        "*   Symmetric Difference: Finds elements in either set but not both.\n",
        "\n",
        "\n",
        "\n",
        "\n"
      ],
      "metadata": {
        "id": "ulK5p8pUhZsn"
      }
    },
    {
      "cell_type": "code",
      "source": [
        "# Eg:- UNION\n",
        "\n",
        "set1 = {1, 2, 3}\n",
        "set2 = {3, 4, 5}\n",
        "\n",
        "Union = set1 | set2\n",
        "print(Union)"
      ],
      "metadata": {
        "id": "LYrAD4RF-58K",
        "colab": {
          "base_uri": "https://localhost:8080/"
        },
        "outputId": "3529b845-2a65-4879-adb4-d91f996e82ec"
      },
      "execution_count": null,
      "outputs": [
        {
          "output_type": "stream",
          "name": "stdout",
          "text": [
            "{1, 2, 3, 4, 5}\n"
          ]
        }
      ]
    },
    {
      "cell_type": "code",
      "source": [
        "#Eg:- INTERSECTION\n",
        "\n",
        "set1 = {1, 2, 3}\n",
        "set2 = {3, 4, 5}\n",
        "\n",
        "INTERSECTION = set1 & set2\n",
        "print(INTERSECTION)\n"
      ],
      "metadata": {
        "colab": {
          "base_uri": "https://localhost:8080/"
        },
        "id": "X-m8mqxVjAii",
        "outputId": "965b8a34-966b-4904-cb23-b36a9e21f602"
      },
      "execution_count": null,
      "outputs": [
        {
          "output_type": "stream",
          "name": "stdout",
          "text": [
            "{3}\n"
          ]
        }
      ]
    },
    {
      "cell_type": "code",
      "source": [
        "#Eg:- Difference\n",
        "\n",
        "set1 = {1, 2, 3}\n",
        "set2 = {3, 4, 5}\n",
        "\n",
        "Difference = set1 - set2\n",
        "print(Difference)"
      ],
      "metadata": {
        "colab": {
          "base_uri": "https://localhost:8080/"
        },
        "id": "nRi2YB9DjXGK",
        "outputId": "9fd923bd-f0e6-4d9f-b0c8-8baea86b6b6c"
      },
      "execution_count": null,
      "outputs": [
        {
          "output_type": "stream",
          "name": "stdout",
          "text": [
            "{1, 2}\n"
          ]
        }
      ]
    },
    {
      "cell_type": "code",
      "source": [
        "#Eg:- Symmetric Difference\n",
        "\n",
        "set1 = {1, 2, 3}\n",
        "set2 = {3, 4, 5}\n",
        "\n",
        "Symmetric = set1 ^ set2\n",
        "print(Symmetric)"
      ],
      "metadata": {
        "colab": {
          "base_uri": "https://localhost:8080/"
        },
        "id": "4kUlYAO-joGO",
        "outputId": "ffa92b97-87b2-4c56-ecc6-b67a6d2c654a"
      },
      "execution_count": null,
      "outputs": [
        {
          "output_type": "stream",
          "name": "stdout",
          "text": [
            "{1, 2, 4, 5}\n"
          ]
        }
      ]
    },
    {
      "cell_type": "markdown",
      "source": [
        "5. Sets are highly versatile and efficient for tasks involving unique items, membership testing, and performing operations on collections. Their mathematical foundation makes them invaluable in many computational and real-world applications.\n",
        "\n",
        "\n",
        "\n",
        "\n",
        "\n",
        "\n"
      ],
      "metadata": {
        "id": "sV4AhNoOkGah"
      }
    },
    {
      "cell_type": "markdown",
      "source": [
        "#6. Discuss the use cases of tuples and sets in Python programming."
      ],
      "metadata": {
        "id": "2DFx3ZkirmjC"
      }
    },
    {
      "cell_type": "markdown",
      "source": [
        "###Use Cases of Tuples:\n",
        "\n",
        "1. Fixed Data: Use tuples for data that should not change, like coordinates or database records.\n",
        "Example: point = (3, 5)\n",
        "\n",
        "2. Returning Multiple Values: Functions can return multiple results in a tuple.\n",
        "Example:"
      ],
      "metadata": {
        "id": "jToZUXsBrn9Z"
      }
    },
    {
      "cell_type": "code",
      "source": [
        "x= 2\n",
        "y= 4\n",
        "def divide(x, y):\n",
        "    return x // y, x % y\n",
        "print(divide(x,y))"
      ],
      "metadata": {
        "colab": {
          "base_uri": "https://localhost:8080/"
        },
        "id": "IguT3KxGslRW",
        "outputId": "289c0148-aea8-4161-ade4-4def494d9918"
      },
      "execution_count": null,
      "outputs": [
        {
          "output_type": "stream",
          "name": "stdout",
          "text": [
            "(0, 2)\n"
          ]
        }
      ]
    },
    {
      "cell_type": "markdown",
      "source": [
        "3. Dictionary Keys: Tuples, being immutable, can serve as keys in dictionaries.\n",
        "Example: locations = {(\"NY\", \"USA\"): \"New York\"}\n",
        "\n",
        "4. Preserving Order: When you need an ordered collection of elements.\n",
        "Example: grades = ('A', 'B', 'C')\n",
        "\n"
      ],
      "metadata": {
        "id": "Vg84rrFss8UA"
      }
    },
    {
      "cell_type": "markdown",
      "source": [
        "###Use Cases of Sets:\n",
        "1. Removing Duplicates: Quickly eliminate duplicates from a collection.\n",
        "Example: unique_numbers = set([1, 2, 2, 3])\n",
        "\n",
        "2. Membership Testing: Efficiently check if an element exists in a collection.\n",
        "\n",
        "3. Set Operations: Perform union, intersection, difference, and symmetric difference."
      ],
      "metadata": {
        "id": "SYP9ANRZtB2S"
      }
    },
    {
      "cell_type": "code",
      "source": [
        "#Eg:-\n",
        "'apple' in {'apple', 'banana'}"
      ],
      "metadata": {
        "colab": {
          "base_uri": "https://localhost:8080/"
        },
        "id": "FoeNE6J8tSdk",
        "outputId": "32520c5f-f544-4149-ec8c-65721fa8da44"
      },
      "execution_count": null,
      "outputs": [
        {
          "output_type": "execute_result",
          "data": {
            "text/plain": [
              "True"
            ]
          },
          "metadata": {},
          "execution_count": 14
        }
      ]
    },
    {
      "cell_type": "code",
      "source": [
        "set1 = {1, 2, 3}\n",
        "set2 = {3, 4, 5}\n",
        "common = set1 & set2\n",
        "print(common)"
      ],
      "metadata": {
        "colab": {
          "base_uri": "https://localhost:8080/"
        },
        "id": "TyIK9iimtXAg",
        "outputId": "7c24cf94-f11e-419e-81b8-c6491e357c9f"
      },
      "execution_count": null,
      "outputs": [
        {
          "output_type": "stream",
          "name": "stdout",
          "text": [
            "{3}\n"
          ]
        }
      ]
    },
    {
      "cell_type": "code",
      "source": [
        "# Filtering Data: Identify common or distinct items in datasets.\n",
        "\n",
        "data1 = {1, 2, 3, 4}\n",
        "data2 = {3, 4, 5, 6}\n",
        "common = data1 & data2\n",
        "distinct = data1 ^ data2\n",
        "\n",
        "print(common)\n",
        "print(distinct)"
      ],
      "metadata": {
        "colab": {
          "base_uri": "https://localhost:8080/"
        },
        "id": "tbekli56tZsv",
        "outputId": "10d6cd38-f2d2-491a-dbc2-518ccb85285a"
      },
      "execution_count": null,
      "outputs": [
        {
          "output_type": "stream",
          "name": "stdout",
          "text": [
            "{3, 4}\n",
            "{1, 2, 5, 6}\n"
          ]
        }
      ]
    },
    {
      "cell_type": "code",
      "source": [
        "''' Summary:-\n",
        "Use tuples for immutable, ordered data or when returning multiple values.\n",
        "Use sets for unique, unordered data and when performing mathematical set operations."
      ],
      "metadata": {
        "id": "RWHu7iRGtmtj"
      },
      "execution_count": null,
      "outputs": []
    },
    {
      "cell_type": "markdown",
      "source": [
        "#7. Describe how to add, modify, and delete items in a dictionary with examples."
      ],
      "metadata": {
        "id": "XTKXLN2fA4ag"
      }
    },
    {
      "cell_type": "code",
      "source": [
        "#  1. Adding Items :- You can add a new key-value pair by assigning a value to a new key.\n",
        "# Create a dictionary\n",
        "person = {\"name\": \"Alice\", \"age\": 25}\n",
        "\n",
        "# Add a new key-value pair\n",
        "person[\"city\"] = \"New York\"\n",
        "print(person)\n"
      ],
      "metadata": {
        "colab": {
          "base_uri": "https://localhost:8080/"
        },
        "id": "9d64t-3rBXic",
        "outputId": "da7634a2-ffdd-42c3-bbab-bb381dbb3190"
      },
      "execution_count": null,
      "outputs": [
        {
          "output_type": "stream",
          "name": "stdout",
          "text": [
            "{'name': 'Alice', 'age': 25, 'city': 'New York'}\n"
          ]
        }
      ]
    },
    {
      "cell_type": "code",
      "source": [
        "#2. Modifying Items:- To modify an existing item, assign a new value to an existing key.\n",
        "\n",
        "# Modify the value of an existing key\n",
        "person[\"age\"] = 26\n",
        "print(person)\n"
      ],
      "metadata": {
        "colab": {
          "base_uri": "https://localhost:8080/"
        },
        "id": "0_QW3NHABidx",
        "outputId": "6430c7ed-ab0f-419b-92ba-520da51ee3e0"
      },
      "execution_count": null,
      "outputs": [
        {
          "output_type": "stream",
          "name": "stdout",
          "text": [
            "{'name': 'Alice', 'age': 26, 'city': 'New York'}\n"
          ]
        }
      ]
    },
    {
      "cell_type": "code",
      "source": [
        "#3. Deleting Items:- You can remove a key-value pair using one of the following methods:\n",
        "\n",
        "# Remove an item by its key\n",
        "del person[\"city\"]\n",
        "print(person)"
      ],
      "metadata": {
        "colab": {
          "base_uri": "https://localhost:8080/"
        },
        "id": "KjLJbqAkBrVX",
        "outputId": "29159230-00bb-4bcf-e632-b69d9f1cd0e3"
      },
      "execution_count": null,
      "outputs": [
        {
          "output_type": "stream",
          "name": "stdout",
          "text": [
            "{'name': 'Alice', 'age': 26}\n"
          ]
        }
      ]
    },
    {
      "cell_type": "code",
      "source": [
        "#4. Using pop():- The pop() method removes a key and returns its value.\n",
        "\n",
        "a = {'name': 'Alice', 'age': 25, 'city': 'New York'}\n",
        "a.pop('name')"
      ],
      "metadata": {
        "colab": {
          "base_uri": "https://localhost:8080/",
          "height": 35
        },
        "id": "e1ZBjgy1CEOo",
        "outputId": "890ab372-f1e0-4253-83cc-88818e80c589"
      },
      "execution_count": null,
      "outputs": [
        {
          "output_type": "execute_result",
          "data": {
            "text/plain": [
              "'Alice'"
            ],
            "application/vnd.google.colaboratory.intrinsic+json": {
              "type": "string"
            }
          },
          "metadata": {},
          "execution_count": 29
        }
      ]
    },
    {
      "cell_type": "markdown",
      "source": [
        "#8. Discuss the importance of dictionary keys being immutable and provide examples."
      ],
      "metadata": {
        "id": "8Z2l8jpCDDKG"
      }
    },
    {
      "cell_type": "markdown",
      "source": [
        "##Ans. Why Immutability Matters:\n",
        "\n",
        "Example of Potential Bug with Mutable Keys:\n",
        "\n",
        "If Python allowed mutable keys:"
      ],
      "metadata": {
        "id": "bMJyYd2SDLCa"
      }
    },
    {
      "cell_type": "code",
      "source": [
        "key = [1, 2]\n",
        "my_dict = {key: \"value\"}\n",
        "key.append(3)  # Modifies the key\n",
        "print(my_dict[key])"
      ],
      "metadata": {
        "colab": {
          "base_uri": "https://localhost:8080/",
          "height": 193
        },
        "id": "GT7GvSUVDXzD",
        "outputId": "20efcfc9-2418-4bdf-a97b-4d51005b4b43"
      },
      "execution_count": null,
      "outputs": [
        {
          "output_type": "error",
          "ename": "TypeError",
          "evalue": "unhashable type: 'list'",
          "traceback": [
            "\u001b[0;31m---------------------------------------------------------------------------\u001b[0m",
            "\u001b[0;31mTypeError\u001b[0m                                 Traceback (most recent call last)",
            "\u001b[0;32m<ipython-input-30-6ada77ee422e>\u001b[0m in \u001b[0;36m<cell line: 2>\u001b[0;34m()\u001b[0m\n\u001b[1;32m      1\u001b[0m \u001b[0mkey\u001b[0m \u001b[0;34m=\u001b[0m \u001b[0;34m[\u001b[0m\u001b[0;36m1\u001b[0m\u001b[0;34m,\u001b[0m \u001b[0;36m2\u001b[0m\u001b[0;34m]\u001b[0m\u001b[0;34m\u001b[0m\u001b[0;34m\u001b[0m\u001b[0m\n\u001b[0;32m----> 2\u001b[0;31m \u001b[0mmy_dict\u001b[0m \u001b[0;34m=\u001b[0m \u001b[0;34m{\u001b[0m\u001b[0mkey\u001b[0m\u001b[0;34m:\u001b[0m \u001b[0;34m\"value\"\u001b[0m\u001b[0;34m}\u001b[0m\u001b[0;34m\u001b[0m\u001b[0;34m\u001b[0m\u001b[0m\n\u001b[0m\u001b[1;32m      3\u001b[0m \u001b[0mkey\u001b[0m\u001b[0;34m.\u001b[0m\u001b[0mappend\u001b[0m\u001b[0;34m(\u001b[0m\u001b[0;36m3\u001b[0m\u001b[0;34m)\u001b[0m  \u001b[0;31m# Modifies the key\u001b[0m\u001b[0;34m\u001b[0m\u001b[0;34m\u001b[0m\u001b[0m\n\u001b[1;32m      4\u001b[0m \u001b[0mprint\u001b[0m\u001b[0;34m(\u001b[0m\u001b[0mmy_dict\u001b[0m\u001b[0;34m[\u001b[0m\u001b[0mkey\u001b[0m\u001b[0;34m]\u001b[0m\u001b[0;34m)\u001b[0m\u001b[0;34m\u001b[0m\u001b[0;34m\u001b[0m\u001b[0m\n",
            "\u001b[0;31mTypeError\u001b[0m: unhashable type: 'list'"
          ]
        }
      ]
    },
    {
      "cell_type": "code",
      "source": [
        "## This would fail as the hash value of the key has changed!"
      ],
      "metadata": {
        "id": "VpOSXAcjDaPT"
      },
      "execution_count": null,
      "outputs": []
    },
    {
      "cell_type": "markdown",
      "source": [
        "The above code highlights the necessity of immutability to prevent such issues.\n",
        "\n",
        "In Python, dictionary keys must be immutable because dictionaries use a hash table under the hood. The key's immutability ensures its hash value remains consistent, which is crucial for fast lookup, insertion, and deletion. If keys could change, the integrity of the hash table would be compromised.\n",
        "\n",
        "\n",
        "####Immutability of dictionary keys ensures:\n",
        "\n",
        "1. Hash stability for efficient lookups.\n",
        "2. Consistency and correctness in operations.\n",
        "3. Simplicity and predictability in dictionary behavior.\n",
        "4. By enforcing immutability for keys, Python maintains the performance and reliability of dictionaries, which are fundamental to efficient data handling."
      ],
      "metadata": {
        "id": "zPT-N_nYDfUS"
      }
    },
    {
      "cell_type": "code",
      "source": [],
      "metadata": {
        "id": "bUoKhflyD7l4"
      },
      "execution_count": null,
      "outputs": []
    }
  ]
}